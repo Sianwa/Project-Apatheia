{
 "cells": [
  {
   "cell_type": "code",
   "execution_count": 1,
   "metadata": {},
   "outputs": [],
   "source": [
    "import fxcmpy\n",
    "import datetime as dt\n",
    "import yaml\n",
    "import socketio\n",
    "import keras\n",
    "from keras.models import Sequential\n",
    "from keras.models import load_model\n",
    "from keras.layers import Dense, LSTM, Dropout\n",
    "from keras.optimizers import Adam\n",
    "import math\n",
    "import json\n",
    "import matplotlib.pyplot as plt\n",
    "import numpy as np\n",
    "import random\n",
    "from collections import deque\n",
    "from keras.models import load_model\n",
    "from tqdm import tqdm\n",
    "import sys\n",
    "import time"
   ]
  },
  {
   "cell_type": "code",
   "execution_count": 2,
   "metadata": {},
   "outputs": [
    {
     "name": "stdout",
     "output_type": "stream",
     "text": [
      "ac71ac8450ddde85fe8b4a8149a03afb24137585\n"
     ]
    }
   ],
   "source": [
    "with open('config.yaml') as f:\n",
    "    data = yaml.load(f, Loader=yaml.FullLoader)\n",
    "    token = data.get(\"token\")\n",
    "print(token)"
   ]
  },
  {
   "cell_type": "code",
   "execution_count": 3,
   "metadata": {},
   "outputs": [
    {
     "name": "stdout",
     "output_type": "stream",
     "text": [
      "True\n"
     ]
    }
   ],
   "source": [
    "con = fxcmpy.fxcmpy(access_token=token, log_file='log.txt', server='demo')\n",
    "print(con.is_connected())"
   ]
  },
  {
   "cell_type": "code",
   "execution_count": 4,
   "metadata": {},
   "outputs": [],
   "source": [
    "class AI_Trader:\n",
    "    def __init__(self, state_size, is_eval=False, model_name=\"\"):\n",
    "        self.state_size = state_size  # normalized previous days\n",
    "        self.action_size = 3  # sit, buy, sell\n",
    "        self.memory = deque(maxlen=1000)\n",
    "        self.inventory = []\n",
    "        self.model_name = model_name\n",
    "        self.is_eval = is_eval\n",
    "\n",
    "        self.gamma = 0.95\n",
    "        self.epsilon = 1.0\n",
    "        self.epsilon_min = 0.01\n",
    "        self.epsilon_decay = 0.995\n",
    "\n",
    "        self.model = load_model(\n",
    "             \"models/\" + model_name) if is_eval else self._model()\n",
    "\n",
    "    def _model(self):\n",
    "        model = Sequential()\n",
    "        model.add(Dense(units=64, input_dim=self.state_size, activation=\"relu\"))\n",
    "        model.add(Dense(units=32, activation=\"relu\"))\n",
    "        model.add(Dense(units=8, activation=\"relu\"))\n",
    "        model.add(Dense(self.action_size, activation=\"softmax\"))\n",
    "        model.compile(loss=\"mse\", optimizer=Adam(lr=0.0001))\n",
    "\n",
    "        return model\n",
    "\n",
    "    def act(self, state):    \n",
    "        if not self.is_eval and np.random.rand() <= self.epsilon:\n",
    "            return random.randrange(self.action_size)\n",
    "\n",
    "        options = self.model.predict(state)\n",
    "        return np.argmax(options[0])\n",
    "\n",
    "    def expReplay(self, batch_size):\n",
    "        mini_batch = []\n",
    "        l = len(self.memory) \n",
    "        for i in range(l - batch_size + 1, l):\n",
    "            mini_batch.append(self.memory[i])\n",
    "         \n",
    "        for state, action, reward, next_state, done in mini_batch:\n",
    "            reward = reward\n",
    "            action = action\n",
    "            if not done:\n",
    "                #if agent is not in a terminal state we calculate the discounted total reward\n",
    "                reward = reward + self.gamma * np.amax(self.model.predict(next_state)[0])\n",
    "                \n",
    "            target = self.model.predict(state)\n",
    "            target[0][action] = reward\n",
    "        \n",
    "            history = self.model.fit(state, target_f, epochs=1, verbose=0)\n",
    "            #print(history.history)\n",
    "\n",
    "        if self.epsilon > self.epsilon_min:\n",
    "            self.epsilon *= self.epsilon_decay \n",
    "\n",
    "        return history.history"
   ]
  },
  {
   "cell_type": "code",
   "execution_count": 5,
   "metadata": {},
   "outputs": [],
   "source": [
    "#-------------------------------------------------------------stream data\n",
    "def on_tick():\n",
    "    df = con.get_candles(currency_pair, period='m1', columns = ['askclose'], number = window_size)\n",
    "    return df \n",
    "#--------------------------------------------------------------historical data\n",
    "def getData(currency_pair):\n",
    "    start = dt.datetime(2020, 7, 15)\n",
    "    stop = dt.datetime(2020, 8, 1)\n",
    "    con.get_candles(currency_pair, period = 'D1', start=start, stop=stop )\n",
    "    \n",
    "#------------------------------------------------------------create state    \n",
    "def CreateState(window_size):\n",
    "    data_stream = on_tick()\n",
    "    state = []\n",
    "    state.append(data_stream)\n",
    "    return np.array(state)  \n",
    "\n",
    "#---------------------------------------------------------------plot performance\n",
    "def plotData(dataSet):\n",
    "    title = \"Model's performance\"\n",
    "    plt.figure(figsize=(12.2,4.5))\n",
    "    plt.scatter(dataSet.index, dataSet['Buy'], color = 'green', label='Buy Signal', marker = '^', alpha = 1)\n",
    "    plt.scatter(dataSet.index, dataSet['Sell'], color = 'red', label='Sell Signal', marker = 'v', alpha = 1)\n",
    "    plt.plot( dataSet['Data'],  label='Tick Data',alpha = 0.35)\n",
    "       \n",
    "    plt.title(title)\n",
    "    plt.xlabel('Dates',fontsize=12)\n",
    "    plt.ylabel('Price Value',fontsize=12)\n",
    "    plt.legend(dataSet.columns.values, loc='upper left')\n",
    "\n",
    "    return plt.show()\n",
    "#-----------------------------------------------------------------place market order\n",
    "def placeMarketOrder(currency_pair, lotSize):\n",
    "    order = con.create_market_buy_order(currency_pair, lotSize)\n",
    "    \n",
    "    print(\"Market Order Placed\")\n",
    "    \n",
    "#-----------------------------------------------------------------get list of open trades\n",
    "def getOpenTrades():\n",
    "    trade_ids = con.get_open_positions()['tradeId']\n",
    "    \n",
    "    #returns a trade_id df\n",
    "    return trade_ids\n",
    "    \n",
    "#-----------------------------------------------------------------close specific position\n",
    "def closePosition(trade_id, lotSize):\n",
    "    con.close_trade(trade_id=trade_id, amount=lotSize)\n",
    "    \n",
    "    print(\"Position closed\")\n",
    "    \n",
    "#------------------------------------------------------------------close all open positions\n",
    "def killSwitch(currency_pair):\n",
    "    con.close_all_for_symbol(currency_pair)\n",
    "    \n",
    "    print(\"All positions closed\")\n"
   ]
  },
  {
   "cell_type": "code",
   "execution_count": 15,
   "metadata": {},
   "outputs": [],
   "source": [
    "#hyperparameters\n",
    "window_size = 7\n",
    "currency_pair = 'EUR/USD'\n",
    "lotSize = 1\n",
    "trained_model = load_model(\"models/ai_trader_50.h5\")\n",
    "trader = AI_Trader(window_size, False, \"ai_trader_50.h5\")"
   ]
  },
  {
   "cell_type": "code",
   "execution_count": 16,
   "metadata": {},
   "outputs": [
    {
     "name": "stdout",
     "output_type": "stream",
     "text": [
      "[[[1.20558]\n",
      "  [1.2057 ]\n",
      "  [1.20568]\n",
      "  [1.20594]\n",
      "  [1.206  ]\n",
      "  [1.20623]\n",
      "  [1.2063 ]]]\n"
     ]
    }
   ],
   "source": [
    "data_samples = 10     #run loop n times\n",
    "state = CreateState(window_size + 1)\n",
    "print(state)"
   ]
  },
  {
   "cell_type": "code",
   "execution_count": 17,
   "metadata": {},
   "outputs": [],
   "source": [
    "total_profit = 0"
   ]
  },
  {
   "cell_type": "code",
   "execution_count": null,
   "metadata": {},
   "outputs": [],
   "source": [
    "#run trading session \n",
    "for t in range(data_samples):\n",
    "        action = trader.act(state)\n",
    "        print(action)\n",
    "        next_state = CreateState(window_size + 1)\n",
    "        reward = 0\n",
    "        \n",
    "\n",
    "        if action == 1:\n",
    "            tradeOrder = placeMarketOrder(currency_pair, lotSize)\n",
    "            trade_ids = con.get_open_positions()['tradeId']\n",
    "            trade_ids.values.tolist()\n",
    "            print(trade_ids)\n",
    "                       \n",
    "\n",
    "        elif action == 2 and len(trade_ids) > 0:\n",
    "            position_id = trade_ids.pop(0)\n",
    "            position = int(position_id) #change dtype to int\n",
    "            closePosition(position, lotSize)\n",
    "            \n",
    "            #REWARD = GROSS P/L\n",
    "            reward = float(con.get_closed_positions()['grossPL'][-1:])\n",
    "            print(\"PROFIT\",reward)\n",
    "            total_profit += reward\n",
    "                        \n",
    "        \n",
    "        if t == data_samples - 1 :\n",
    "            #close all open positions\n",
    "            done = True\n",
    "\n",
    "        else:\n",
    "            done = False\n",
    "\n",
    "        trader.memory.append((state, action, reward, next_state, done))\n",
    "        state = next_state \n",
    "        time.sleep(300) #slows down model allowing it to view price changes before acting\n",
    "        \n",
    "        if done:\n",
    "            print(\"########################\")\n",
    "            print(\"TOTAL PROFIT: {}\".format(total_profit))\n",
    "            print(\"Final Inventory\", trade_ids)\n",
    "            print(\"########################\")"
   ]
  },
  {
   "cell_type": "code",
   "execution_count": null,
   "metadata": {},
   "outputs": [],
   "source": [
    "con.close_all_for_symbol(currency_pair)"
   ]
  },
  {
   "cell_type": "code",
   "execution_count": null,
   "metadata": {},
   "outputs": [],
   "source": [
    "con.close_all()"
   ]
  },
  {
   "cell_type": "code",
   "execution_count": null,
   "metadata": {},
   "outputs": [],
   "source": [
    "con.close_trade(trade_id=69817218, amount=lotSize)\n",
    "con.close_trade(trade_id=69817246, amount=lotSize)\n"
   ]
  },
  {
   "cell_type": "code",
   "execution_count": 10,
   "metadata": {},
   "outputs": [
    {
     "data": {
      "text/html": [
       "<div>\n",
       "<style scoped>\n",
       "    .dataframe tbody tr th:only-of-type {\n",
       "        vertical-align: middle;\n",
       "    }\n",
       "\n",
       "    .dataframe tbody tr th {\n",
       "        vertical-align: top;\n",
       "    }\n",
       "\n",
       "    .dataframe thead th {\n",
       "        text-align: right;\n",
       "    }\n",
       "</style>\n",
       "<table border=\"1\" class=\"dataframe\">\n",
       "  <thead>\n",
       "    <tr style=\"text-align: right;\">\n",
       "      <th></th>\n",
       "      <th>t</th>\n",
       "      <th>ratePrecision</th>\n",
       "      <th>tradeId</th>\n",
       "      <th>accountName</th>\n",
       "      <th>accountId</th>\n",
       "      <th>roll</th>\n",
       "      <th>com</th>\n",
       "      <th>open</th>\n",
       "      <th>valueDate</th>\n",
       "      <th>grossPL</th>\n",
       "      <th>...</th>\n",
       "      <th>currency</th>\n",
       "      <th>isBuy</th>\n",
       "      <th>amountK</th>\n",
       "      <th>currencyPoint</th>\n",
       "      <th>time</th>\n",
       "      <th>usedMargin</th>\n",
       "      <th>OpenOrderRequestTXT</th>\n",
       "      <th>stop</th>\n",
       "      <th>stopMove</th>\n",
       "      <th>limit</th>\n",
       "    </tr>\n",
       "  </thead>\n",
       "  <tbody>\n",
       "    <tr>\n",
       "      <th>0</th>\n",
       "      <td>1</td>\n",
       "      <td>5</td>\n",
       "      <td>69824865</td>\n",
       "      <td>1001595259</td>\n",
       "      <td>1595259</td>\n",
       "      <td>0</td>\n",
       "      <td>0</td>\n",
       "      <td>1.20805</td>\n",
       "      <td></td>\n",
       "      <td>-0.17</td>\n",
       "      <td>...</td>\n",
       "      <td>EUR/USD</td>\n",
       "      <td>True</td>\n",
       "      <td>1</td>\n",
       "      <td>0.1</td>\n",
       "      <td>02092021073102</td>\n",
       "      <td>3.5</td>\n",
       "      <td>None</td>\n",
       "      <td>0</td>\n",
       "      <td>0</td>\n",
       "      <td>0</td>\n",
       "    </tr>\n",
       "    <tr>\n",
       "      <th>1</th>\n",
       "      <td>1</td>\n",
       "      <td>5</td>\n",
       "      <td>69824835</td>\n",
       "      <td>1001595259</td>\n",
       "      <td>1595259</td>\n",
       "      <td>0</td>\n",
       "      <td>0</td>\n",
       "      <td>1.20822</td>\n",
       "      <td></td>\n",
       "      <td>-0.34</td>\n",
       "      <td>...</td>\n",
       "      <td>EUR/USD</td>\n",
       "      <td>True</td>\n",
       "      <td>1</td>\n",
       "      <td>0.1</td>\n",
       "      <td>02092021072549</td>\n",
       "      <td>3.5</td>\n",
       "      <td>None</td>\n",
       "      <td>0</td>\n",
       "      <td>0</td>\n",
       "      <td>0</td>\n",
       "    </tr>\n",
       "    <tr>\n",
       "      <th>2</th>\n",
       "      <td>1</td>\n",
       "      <td>5</td>\n",
       "      <td>69824774</td>\n",
       "      <td>1001595259</td>\n",
       "      <td>1595259</td>\n",
       "      <td>0</td>\n",
       "      <td>0</td>\n",
       "      <td>1.20867</td>\n",
       "      <td></td>\n",
       "      <td>-0.79</td>\n",
       "      <td>...</td>\n",
       "      <td>EUR/USD</td>\n",
       "      <td>True</td>\n",
       "      <td>1</td>\n",
       "      <td>0.1</td>\n",
       "      <td>02092021072037</td>\n",
       "      <td>3.5</td>\n",
       "      <td>None</td>\n",
       "      <td>0</td>\n",
       "      <td>0</td>\n",
       "      <td>0</td>\n",
       "    </tr>\n",
       "  </tbody>\n",
       "</table>\n",
       "<p>3 rows × 23 columns</p>\n",
       "</div>"
      ],
      "text/plain": [
       "   t  ratePrecision   tradeId accountName accountId  roll  com     open  \\\n",
       "0  1              5  69824865  1001595259   1595259     0    0  1.20805   \n",
       "1  1              5  69824835  1001595259   1595259     0    0  1.20822   \n",
       "2  1              5  69824774  1001595259   1595259     0    0  1.20867   \n",
       "\n",
       "  valueDate  grossPL  ...  currency  isBuy  amountK currencyPoint  \\\n",
       "0              -0.17  ...   EUR/USD   True        1           0.1   \n",
       "1              -0.34  ...   EUR/USD   True        1           0.1   \n",
       "2              -0.79  ...   EUR/USD   True        1           0.1   \n",
       "\n",
       "             time  usedMargin  OpenOrderRequestTXT stop  stopMove limit  \n",
       "0  02092021073102         3.5                 None    0         0     0  \n",
       "1  02092021072549         3.5                 None    0         0     0  \n",
       "2  02092021072037         3.5                 None    0         0     0  \n",
       "\n",
       "[3 rows x 23 columns]"
      ]
     },
     "execution_count": 10,
     "metadata": {},
     "output_type": "execute_result"
    }
   ],
   "source": [
    "con.get_open_positions()\n"
   ]
  },
  {
   "cell_type": "code",
   "execution_count": 7,
   "metadata": {},
   "outputs": [
    {
     "name": "stdout",
     "output_type": "stream",
     "text": [
      "False\n"
     ]
    }
   ],
   "source": [
    "con.close()\n",
    "print(con.is_connected())"
   ]
  },
  {
   "cell_type": "code",
   "execution_count": null,
   "metadata": {},
   "outputs": [],
   "source": [
    "con.close_all_for_symbol(currency_pair)"
   ]
  },
  {
   "cell_type": "code",
   "execution_count": null,
   "metadata": {},
   "outputs": [],
   "source": [
    "con.get_open_positions()\n"
   ]
  },
  {
   "cell_type": "code",
   "execution_count": null,
   "metadata": {},
   "outputs": [],
   "source": [
    "reward = float(con.get_closed_positions()['grossPL'][-1:])\n",
    "print(reward)"
   ]
  },
  {
   "cell_type": "code",
   "execution_count": 11,
   "metadata": {},
   "outputs": [
    {
     "name": "stdout",
     "output_type": "stream",
     "text": [
      "['69824865', '69824835', '69824774']\n"
     ]
    }
   ],
   "source": [
    "trade_ids = []\n",
    "\n",
    "df = con.get_open_positions()['tradeId']\n",
    "trade_ids = df.tolist()\n",
    "print(trade_ids)\n"
   ]
  },
  {
   "cell_type": "code",
   "execution_count": 12,
   "metadata": {},
   "outputs": [],
   "source": [
    "con.close_all()"
   ]
  },
  {
   "cell_type": "code",
   "execution_count": 13,
   "metadata": {},
   "outputs": [
    {
     "data": {
      "text/html": [
       "<div>\n",
       "<style scoped>\n",
       "    .dataframe tbody tr th:only-of-type {\n",
       "        vertical-align: middle;\n",
       "    }\n",
       "\n",
       "    .dataframe tbody tr th {\n",
       "        vertical-align: top;\n",
       "    }\n",
       "\n",
       "    .dataframe thead th {\n",
       "        text-align: right;\n",
       "    }\n",
       "</style>\n",
       "<table border=\"1\" class=\"dataframe\">\n",
       "  <thead>\n",
       "    <tr style=\"text-align: right;\">\n",
       "      <th></th>\n",
       "    </tr>\n",
       "  </thead>\n",
       "  <tbody>\n",
       "  </tbody>\n",
       "</table>\n",
       "</div>"
      ],
      "text/plain": [
       "Empty DataFrame\n",
       "Columns: []\n",
       "Index: []"
      ]
     },
     "execution_count": 13,
     "metadata": {},
     "output_type": "execute_result"
    }
   ],
   "source": [
    "con.get_open_positions()"
   ]
  },
  {
   "cell_type": "code",
   "execution_count": 5,
   "metadata": {},
   "outputs": [
    {
     "data": {
      "text/html": [
       "<div>\n",
       "<style scoped>\n",
       "    .dataframe tbody tr th:only-of-type {\n",
       "        vertical-align: middle;\n",
       "    }\n",
       "\n",
       "    .dataframe tbody tr th {\n",
       "        vertical-align: top;\n",
       "    }\n",
       "\n",
       "    .dataframe thead th {\n",
       "        text-align: right;\n",
       "    }\n",
       "</style>\n",
       "<table border=\"1\" class=\"dataframe\">\n",
       "  <thead>\n",
       "    <tr style=\"text-align: right;\">\n",
       "      <th></th>\n",
       "      <th>t</th>\n",
       "      <th>ratePrecision</th>\n",
       "      <th>accountId</th>\n",
       "      <th>balance</th>\n",
       "      <th>usdMr</th>\n",
       "      <th>mc</th>\n",
       "      <th>mcDate</th>\n",
       "      <th>accountName</th>\n",
       "      <th>usdMr3</th>\n",
       "      <th>hedging</th>\n",
       "      <th>usableMargin3</th>\n",
       "      <th>usableMarginPerc</th>\n",
       "      <th>usableMargin3Perc</th>\n",
       "      <th>equity</th>\n",
       "      <th>usableMargin</th>\n",
       "      <th>bus</th>\n",
       "      <th>dayPL</th>\n",
       "      <th>grossPL</th>\n",
       "      <th>isTotal</th>\n",
       "    </tr>\n",
       "  </thead>\n",
       "  <tbody>\n",
       "    <tr>\n",
       "      <th>0</th>\n",
       "      <td>6</td>\n",
       "      <td>0</td>\n",
       "      <td></td>\n",
       "      <td>19823.79</td>\n",
       "      <td>0</td>\n",
       "      <td></td>\n",
       "      <td>None</td>\n",
       "      <td></td>\n",
       "      <td>0</td>\n",
       "      <td></td>\n",
       "      <td>19823.79</td>\n",
       "      <td>100</td>\n",
       "      <td>100</td>\n",
       "      <td>19823.79</td>\n",
       "      <td>19823.79</td>\n",
       "      <td>None</td>\n",
       "      <td>-0.84</td>\n",
       "      <td>0</td>\n",
       "      <td>True</td>\n",
       "    </tr>\n",
       "  </tbody>\n",
       "</table>\n",
       "</div>"
      ],
      "text/plain": [
       "   t  ratePrecision accountId   balance  usdMr mc mcDate accountName  usdMr3  \\\n",
       "0  6              0            19823.79      0      None                   0   \n",
       "\n",
       "  hedging  usableMargin3  usableMarginPerc  usableMargin3Perc    equity  \\\n",
       "0               19823.79               100                100  19823.79   \n",
       "\n",
       "   usableMargin   bus  dayPL  grossPL  isTotal  \n",
       "0      19823.79  None  -0.84        0     True  "
      ]
     },
     "execution_count": 5,
     "metadata": {},
     "output_type": "execute_result"
    }
   ],
   "source": [
    "con.get_accounts_summary()['balance']\n"
   ]
  },
  {
   "cell_type": "code",
   "execution_count": null,
   "metadata": {},
   "outputs": [],
   "source": []
  }
 ],
 "metadata": {
  "kernelspec": {
   "display_name": "Python 3",
   "language": "python",
   "name": "python3"
  },
  "language_info": {
   "codemirror_mode": {
    "name": "ipython",
    "version": 3
   },
   "file_extension": ".py",
   "mimetype": "text/x-python",
   "name": "python",
   "nbconvert_exporter": "python",
   "pygments_lexer": "ipython3",
   "version": "3.7.4"
  }
 },
 "nbformat": 4,
 "nbformat_minor": 4
}
