{
 "metadata": {
  "language_info": {
   "codemirror_mode": {
    "name": "ipython",
    "version": 3
   },
   "file_extension": ".py",
   "mimetype": "text/x-python",
   "name": "python",
   "nbconvert_exporter": "python",
   "pygments_lexer": "ipython3",
   "version": "3.7.4-final"
  },
  "orig_nbformat": 2,
  "kernelspec": {
   "name": "python3",
   "display_name": "Python 3",
   "language": "python"
  }
 },
 "nbformat": 4,
 "nbformat_minor": 2,
 "cells": [
  {
   "cell_type": "code",
   "execution_count": 140,
   "metadata": {},
   "outputs": [],
   "source": [
    "import pandas as pd\n",
    "from bs4 import BeautifulSoup as soup\n",
    "import twint\n",
    "from vaderSentiment.vaderSentiment import SentimentIntensityAnalyzer\n",
    "import re\n",
    "from tqdm import tqdm\n",
    "from datetime import date\n",
    "import numpy as np\n",
    "import matplotlib.pyplot as plt\n",
    "import seaborn as sns"
   ]
  },
  {
   "cell_type": "code",
   "execution_count": 169,
   "metadata": {},
   "outputs": [],
   "source": [
    "forexlive_data = pd.read_csv(\"data/ForexLive_1015.csv\")\n",
    "fxstreet_data = pd.read_csv(\"data/FXstreetNews_1015.csv\")"
   ]
  },
  {
   "cell_type": "code",
   "execution_count": 170,
   "metadata": {},
   "outputs": [
    {
     "output_type": "execute_result",
     "data": {
      "text/plain": [
       "(247764, 36)"
      ]
     },
     "metadata": {},
     "execution_count": 170
    }
   ],
   "source": [
    "tweet_data = pd.concat([forexlive_data, fxstreet_data])\n",
    "tweet_data.shape"
   ]
  },
  {
   "cell_type": "code",
   "execution_count": 171,
   "metadata": {},
   "outputs": [
    {
     "output_type": "execute_result",
     "data": {
      "text/plain": [
       "(247459, 2)"
      ]
     },
     "metadata": {},
     "execution_count": 171
    }
   ],
   "source": [
    "#removing extra columns\n",
    "tweet_data = tweet_data[['date','tweet']]\n",
    "tweet_data = tweet_data.sort_values('date').reset_index(drop = True)\n",
    "#dropping duplicate values\n",
    "tweet_data.drop_duplicates(keep = False, inplace = True)\n",
    "tweet_data.to_csv(\"data/ForexData.csv\", index = False)\n",
    "tweet_data.shape"
   ]
  },
  {
   "source": [
    "next we only want the tweets that are related to the  currency pair our model has been trained with. So we create a list of words containing those keywords and check which tweets have the data on those tw currency pairs"
   ],
   "cell_type": "markdown",
   "metadata": {}
  },
  {
   "cell_type": "code",
   "execution_count": 179,
   "metadata": {},
   "outputs": [
    {
     "output_type": "execute_result",
     "data": {
      "text/plain": [
       "(51294, 2)"
      ]
     },
     "metadata": {},
     "execution_count": 179
    }
   ],
   "source": [
    "keywords = ['EU ', 'USA ','UK ','Europe', 'Euro ', 'EUR/USD', 'US ', 'London', 'America', 'Dollar', 'Euro ']\n",
    "colum_list = ['date','tweet']\n",
    "tweet_news = tweet_data[tweet_data[colum_list].stack().str.contains('|'.join(keywords), case=False, na=False).any(level=0)]\n",
    "tweet_news.reset_index(drop=True)\n",
    "tweet_news.shape"
   ]
  },
  {
   "source": [
    "Remove all the links starting with either http or pic.twitter.com or https\n",
    "Remove all the special characters, emoticons\n",
    "Remove all the hashtags (#), @ symbol.\n",
    "Remove words: ETMarkets, ndtv, moneycontrol, marketsupdate, biznews, NewsAlert, Click here for LIVE updates.\n",
    "Remove all the numbers."
   ],
   "cell_type": "markdown",
   "metadata": {}
  },
  {
   "cell_type": "code",
   "execution_count": 180,
   "metadata": {},
   "outputs": [],
   "source": [
    "#Cleaning the tweets\n",
    "\n",
    "def decontracted(phrase):\n",
    "    # specific\n",
    "    phrase = re.sub(r\"won't\", \"will not\", phrase)\n",
    "    phrase = re.sub(r\"can\\'t\", \"can not\", phrase)\n",
    "\n",
    "    # general\n",
    "    phrase = re.sub(r\"n\\'t\", \" not\", phrase)\n",
    "    phrase = re.sub(r\"\\'re\", \" are\", phrase)\n",
    "    phrase = re.sub(r\"\\'s\", \" is\", phrase)\n",
    "    phrase = re.sub(r\"\\'d\", \" would\", phrase)\n",
    "    phrase = re.sub(r\"\\'ll\", \" will\", phrase)\n",
    "    phrase = re.sub(r\"\\'t\", \" not\", phrase)\n",
    "    phrase = re.sub(r\"\\'ve\", \" have\", phrase)\n",
    "    phrase = re.sub(r\"\\'m\", \" am\", phrase)\n",
    "    return phrase\n",
    "\n",
    "def clean(text):\n",
    "    text = str(text)\n",
    "    text = text.lower()\n",
    "    text = re.sub(r'http\\S+', ' ', text)\n",
    "    text = re.sub(r'pic.twitter\\S+', ' ', text)\n",
    "    text = decontracted(text)\n",
    "    text = re.sub(r'\\(([^)]+)\\)', \" \", text)\n",
    "    text = text.replace('etmarkets', ' ').replace('marketupdates', ' ').replace('newsalert', ' ').replace('ndtv', ' ').replace('moneycontrol', ' ').replace('here is why', ' ')\n",
    "    text = text.replace('marketsupdate', ' ').replace('biznews', ' ').replace('click here', ' ').replace('live updates', ' ').replace('et now', ' ').replace('New blog post:',  ' ')\n",
    "    text = re.sub(r'[^a-zA-Z ]+', ' ', text)\n",
    "    text = re.sub(r' \\w{1,2}_', ' ', text)\n",
    "    text = re.sub('\\s+',' ', text)\n",
    "    return text"
   ]
  },
  {
   "cell_type": "code",
   "execution_count": 185,
   "metadata": {},
   "outputs": [
    {
     "output_type": "stream",
     "name": "stderr",
     "text": [
      "2010it [00:00, 3767.06it/s]\n"
     ]
    },
    {
     "output_type": "execute_result",
     "data": {
      "text/plain": [
       "           date                                tweet_news_combined  \\\n",
       "3    2010-01-03  new blog post sterling flexibility has aided u...   \n",
       "13   2010-01-04  new blog post eur usd sees decent bounce mkt n...   \n",
       "68   2010-01-05  new blog post us name heavy sellers of aud mkt...   \n",
       "127  2010-01-06  new blog post german econmin germany must rema...   \n",
       "195  2010-01-07  new blog post eur usd lower on day usual suspe...   \n",
       "259  2010-01-08  new blog post uk economy likely to be downgrad...   \n",
       "324  2010-01-09  new blog post forexlive us wrap up payrolls fa...   \n",
       "328  2010-01-10  new blog post a race the dollar is glad to los...   \n",
       "336  2010-01-11  new blog post snb is hildebrand snb to continu...   \n",
       "401  2010-01-12  new blog post us yields on the slide mkt new b...   \n",
       "469  2010-01-13  new blog post eur usd reverses course swiss se...   \n",
       "551  2010-01-14  new blog post us sells bln in year bonds at bi...   \n",
       "633  2010-01-15  new blog post ecb is stark certain amount of i...   \n",
       "701  2010-01-16  new blog post futures mark short dollars mkt n...   \n",
       "706  2010-01-17  new blog post obama will not let free trade cu...   \n",
       "728  2010-01-18  new blog post ecb prepares legal ground for eu...   \n",
       "773  2010-01-19  new blog post uk cpi due out today may re info...   \n",
       "836  2010-01-20  new blog post no respite for eur usd in early ...   \n",
       "902  2010-01-21  new blog post eur usd slips back below mkt new...   \n",
       "976  2010-01-22  new blog post eur usd slips back mkt new blog ...   \n",
       "\n",
       "                                       tweet_processed  \n",
       "3    new blog post sterling flexibility has aided u...  \n",
       "13   new blog post eur usd sees decent bounce mkt n...  \n",
       "68   new blog post us name heavy sellers of aud mkt...  \n",
       "127  new blog post german econmin germany must rema...  \n",
       "195  new blog post eur usd lower on day usual suspe...  \n",
       "259  new blog post uk economy likely to be downgrad...  \n",
       "324  new blog post forexlive us wrap up payrolls fa...  \n",
       "328  new blog post a race the dollar is glad to los...  \n",
       "336  new blog post snb is hildebrand snb to continu...  \n",
       "401  new blog post us yields on the slide mkt new b...  \n",
       "469  new blog post eur usd reverses course swiss se...  \n",
       "551  new blog post us sells bln in year bonds at bi...  \n",
       "633  new blog post ecb is stark certain amount of i...  \n",
       "701  new blog post futures mark short dollars mkt n...  \n",
       "706  new blog post obama will not let free trade cu...  \n",
       "728  new blog post ecb prepares legal ground for eu...  \n",
       "773  new blog post uk cpi due out today may re info...  \n",
       "836  new blog post no respite for eur usd in early ...  \n",
       "902  new blog post eur usd slips back below mkt new...  \n",
       "976  new blog post eur usd slips back mkt new blog ...  "
      ],
      "text/html": "<div>\n<style scoped>\n    .dataframe tbody tr th:only-of-type {\n        vertical-align: middle;\n    }\n\n    .dataframe tbody tr th {\n        vertical-align: top;\n    }\n\n    .dataframe thead th {\n        text-align: right;\n    }\n</style>\n<table border=\"1\" class=\"dataframe\">\n  <thead>\n    <tr style=\"text-align: right;\">\n      <th></th>\n      <th>date</th>\n      <th>tweet_news_combined</th>\n      <th>tweet_processed</th>\n    </tr>\n  </thead>\n  <tbody>\n    <tr>\n      <th>3</th>\n      <td>2010-01-03</td>\n      <td>new blog post sterling flexibility has aided u...</td>\n      <td>new blog post sterling flexibility has aided u...</td>\n    </tr>\n    <tr>\n      <th>13</th>\n      <td>2010-01-04</td>\n      <td>new blog post eur usd sees decent bounce mkt n...</td>\n      <td>new blog post eur usd sees decent bounce mkt n...</td>\n    </tr>\n    <tr>\n      <th>68</th>\n      <td>2010-01-05</td>\n      <td>new blog post us name heavy sellers of aud mkt...</td>\n      <td>new blog post us name heavy sellers of aud mkt...</td>\n    </tr>\n    <tr>\n      <th>127</th>\n      <td>2010-01-06</td>\n      <td>new blog post german econmin germany must rema...</td>\n      <td>new blog post german econmin germany must rema...</td>\n    </tr>\n    <tr>\n      <th>195</th>\n      <td>2010-01-07</td>\n      <td>new blog post eur usd lower on day usual suspe...</td>\n      <td>new blog post eur usd lower on day usual suspe...</td>\n    </tr>\n    <tr>\n      <th>259</th>\n      <td>2010-01-08</td>\n      <td>new blog post uk economy likely to be downgrad...</td>\n      <td>new blog post uk economy likely to be downgrad...</td>\n    </tr>\n    <tr>\n      <th>324</th>\n      <td>2010-01-09</td>\n      <td>new blog post forexlive us wrap up payrolls fa...</td>\n      <td>new blog post forexlive us wrap up payrolls fa...</td>\n    </tr>\n    <tr>\n      <th>328</th>\n      <td>2010-01-10</td>\n      <td>new blog post a race the dollar is glad to los...</td>\n      <td>new blog post a race the dollar is glad to los...</td>\n    </tr>\n    <tr>\n      <th>336</th>\n      <td>2010-01-11</td>\n      <td>new blog post snb is hildebrand snb to continu...</td>\n      <td>new blog post snb is hildebrand snb to continu...</td>\n    </tr>\n    <tr>\n      <th>401</th>\n      <td>2010-01-12</td>\n      <td>new blog post us yields on the slide mkt new b...</td>\n      <td>new blog post us yields on the slide mkt new b...</td>\n    </tr>\n    <tr>\n      <th>469</th>\n      <td>2010-01-13</td>\n      <td>new blog post eur usd reverses course swiss se...</td>\n      <td>new blog post eur usd reverses course swiss se...</td>\n    </tr>\n    <tr>\n      <th>551</th>\n      <td>2010-01-14</td>\n      <td>new blog post us sells bln in year bonds at bi...</td>\n      <td>new blog post us sells bln in year bonds at bi...</td>\n    </tr>\n    <tr>\n      <th>633</th>\n      <td>2010-01-15</td>\n      <td>new blog post ecb is stark certain amount of i...</td>\n      <td>new blog post ecb is stark certain amount of i...</td>\n    </tr>\n    <tr>\n      <th>701</th>\n      <td>2010-01-16</td>\n      <td>new blog post futures mark short dollars mkt n...</td>\n      <td>new blog post futures mark short dollars mkt n...</td>\n    </tr>\n    <tr>\n      <th>706</th>\n      <td>2010-01-17</td>\n      <td>new blog post obama will not let free trade cu...</td>\n      <td>new blog post obama will not let free trade cu...</td>\n    </tr>\n    <tr>\n      <th>728</th>\n      <td>2010-01-18</td>\n      <td>new blog post ecb prepares legal ground for eu...</td>\n      <td>new blog post ecb prepares legal ground for eu...</td>\n    </tr>\n    <tr>\n      <th>773</th>\n      <td>2010-01-19</td>\n      <td>new blog post uk cpi due out today may re info...</td>\n      <td>new blog post uk cpi due out today may re info...</td>\n    </tr>\n    <tr>\n      <th>836</th>\n      <td>2010-01-20</td>\n      <td>new blog post no respite for eur usd in early ...</td>\n      <td>new blog post no respite for eur usd in early ...</td>\n    </tr>\n    <tr>\n      <th>902</th>\n      <td>2010-01-21</td>\n      <td>new blog post eur usd slips back below mkt new...</td>\n      <td>new blog post eur usd slips back below mkt new...</td>\n    </tr>\n    <tr>\n      <th>976</th>\n      <td>2010-01-22</td>\n      <td>new blog post eur usd slips back mkt new blog ...</td>\n      <td>new blog post eur usd slips back mkt new blog ...</td>\n    </tr>\n  </tbody>\n</table>\n</div>"
     },
     "metadata": {},
     "execution_count": 185
    }
   ],
   "source": [
    "for i in tqdm(tweet_news.itertuples()):\n",
    "    tweet_news.at[i[0], 'tweet_processed'] = clean(i[2])\n",
    "\n",
    "tweet_news.head(20)"
   ]
  },
  {
   "cell_type": "code",
   "execution_count": 186,
   "metadata": {},
   "outputs": [
    {
     "output_type": "execute_result",
     "data": {
      "text/plain": [
       "           date                                tweet_news_combined  \\\n",
       "3    2010-01-03  new blog post sterling flexibility has aided u...   \n",
       "13   2010-01-04  new blog post eur usd sees decent bounce mkt n...   \n",
       "68   2010-01-05  new blog post us name heavy sellers of aud mkt...   \n",
       "127  2010-01-06  new blog post german econmin germany must rema...   \n",
       "195  2010-01-07  new blog post eur usd lower on day usual suspe...   \n",
       "\n",
       "                                       tweet_processed  \n",
       "3    new blog post sterling flexibility has aided u...  \n",
       "13   new blog post eur usd sees decent bounce mkt n...  \n",
       "68   new blog post us name heavy sellers of aud mkt...  \n",
       "127  new blog post german econmin germany must rema...  \n",
       "195  new blog post eur usd lower on day usual suspe...  "
      ],
      "text/html": "<div>\n<style scoped>\n    .dataframe tbody tr th:only-of-type {\n        vertical-align: middle;\n    }\n\n    .dataframe tbody tr th {\n        vertical-align: top;\n    }\n\n    .dataframe thead th {\n        text-align: right;\n    }\n</style>\n<table border=\"1\" class=\"dataframe\">\n  <thead>\n    <tr style=\"text-align: right;\">\n      <th></th>\n      <th>date</th>\n      <th>tweet_news_combined</th>\n      <th>tweet_processed</th>\n    </tr>\n  </thead>\n  <tbody>\n    <tr>\n      <th>3</th>\n      <td>2010-01-03</td>\n      <td>new blog post sterling flexibility has aided u...</td>\n      <td>new blog post sterling flexibility has aided u...</td>\n    </tr>\n    <tr>\n      <th>13</th>\n      <td>2010-01-04</td>\n      <td>new blog post eur usd sees decent bounce mkt n...</td>\n      <td>new blog post eur usd sees decent bounce mkt n...</td>\n    </tr>\n    <tr>\n      <th>68</th>\n      <td>2010-01-05</td>\n      <td>new blog post us name heavy sellers of aud mkt...</td>\n      <td>new blog post us name heavy sellers of aud mkt...</td>\n    </tr>\n    <tr>\n      <th>127</th>\n      <td>2010-01-06</td>\n      <td>new blog post german econmin germany must rema...</td>\n      <td>new blog post german econmin germany must rema...</td>\n    </tr>\n    <tr>\n      <th>195</th>\n      <td>2010-01-07</td>\n      <td>new blog post eur usd lower on day usual suspe...</td>\n      <td>new blog post eur usd lower on day usual suspe...</td>\n    </tr>\n  </tbody>\n</table>\n</div>"
     },
     "metadata": {},
     "execution_count": 186
    }
   ],
   "source": [
    "#combining all the tweets posted on a single date\n",
    "tweet_news['tweet_news_combined'] = tweet_news.groupby(['date'])['tweet_processed'].transform(lambda x: ' '.join(x))\n",
    "\n",
    "tweet_news.head(5)"
   ]
  },
  {
   "cell_type": "code",
   "execution_count": 187,
   "metadata": {},
   "outputs": [
    {
     "output_type": "execute_result",
     "data": {
      "text/plain": [
       "              date                                tweet_news_combined\n",
       "247379  2015-12-26               uk rate hike in no longer priced in \n",
       "247407  2015-12-28  the dollar index what the charts say socgen eu...\n",
       "247504  2015-12-29   gbpusd sell off extends ahead of us data us c...\n",
       "247626  2015-12-30  oil falls more than on unexpected us inventory...\n",
       "247749  2015-12-31  why the new zealand dollar could soon come und..."
      ],
      "text/html": "<div>\n<style scoped>\n    .dataframe tbody tr th:only-of-type {\n        vertical-align: middle;\n    }\n\n    .dataframe tbody tr th {\n        vertical-align: top;\n    }\n\n    .dataframe thead th {\n        text-align: right;\n    }\n</style>\n<table border=\"1\" class=\"dataframe\">\n  <thead>\n    <tr style=\"text-align: right;\">\n      <th></th>\n      <th>date</th>\n      <th>tweet_news_combined</th>\n    </tr>\n  </thead>\n  <tbody>\n    <tr>\n      <th>247379</th>\n      <td>2015-12-26</td>\n      <td>uk rate hike in no longer priced in</td>\n    </tr>\n    <tr>\n      <th>247407</th>\n      <td>2015-12-28</td>\n      <td>the dollar index what the charts say socgen eu...</td>\n    </tr>\n    <tr>\n      <th>247504</th>\n      <td>2015-12-29</td>\n      <td>gbpusd sell off extends ahead of us data us c...</td>\n    </tr>\n    <tr>\n      <th>247626</th>\n      <td>2015-12-30</td>\n      <td>oil falls more than on unexpected us inventory...</td>\n    </tr>\n    <tr>\n      <th>247749</th>\n      <td>2015-12-31</td>\n      <td>why the new zealand dollar could soon come und...</td>\n    </tr>\n  </tbody>\n</table>\n</div>"
     },
     "metadata": {},
     "execution_count": 187
    }
   ],
   "source": [
    "tweet_news = tweet_news[['date', 'tweet_news_combined']]\n",
    "tweet_news.drop_duplicates(inplace = True)\n",
    "tweet_news.sort_values('date', inplace = True)\n",
    "tweet_news.reset_index(drop = True)\n",
    "tweet_news.tail(5)"
   ]
  },
  {
   "cell_type": "code",
   "execution_count": 194,
   "metadata": {
    "tags": []
   },
   "outputs": [],
   "source": [
    "tweet_news.to_csv('data/news_processed.csv', index =False)"
   ]
  },
  {
   "cell_type": "code",
   "execution_count": 195,
   "metadata": {},
   "outputs": [],
   "source": [
    "\n",
    "tweet_news = pd.read_csv('data/news_processed.csv')"
   ]
  },
  {
   "cell_type": "code",
   "execution_count": 199,
   "metadata": {},
   "outputs": [
    {
     "output_type": "stream",
     "name": "stderr",
     "text": [
      "2010it [00:18, 110.32it/s]\n"
     ]
    }
   ],
   "source": [
    "#next we want to add some new words to Vader Dictionary to judge fores markets better\n",
    "new_words =  {'falls': -9, 'drops': -9, 'rise': 9, 'increases': 9, 'gain': 9, 'hiked': -9, 'dips': -9, 'declines': -9, 'decline': -9, 'hikes': -9, 'jumps': 9,\n",
    "              'lose': -9, 'profit': 9, 'loss': -9, 'shreds': -9, 'sell': -9, 'buy': 9, 'recession': -9, 'weakens': -9, 'record low': -9, 'record high': 9,\n",
    "              'bearish': -9, 'bulish': 9, 'climbs': 9, 'short': -9, 'long': 9, 'highs': 9, 'lows': -9, 'rises': 9, 'collapses': -9, 'improves to': 9, 'breaks above': 9, 'breaks below': -9 } \n",
    "\n",
    "analyser = SentimentIntensityAnalyzer()\n",
    "analyser.lexicon.update(new_words)\n",
    "\n",
    "for i in tqdm(tweet_news.itertuples()):\n",
    "    score = analyser.polarity_scores(tweet_news.iloc[i[0]]['tweet_news_combined'])\n",
    "\n",
    "    tweet_news.at[i[0], 'score'] = score['compound']\n",
    "\n",
    "    if score['compound'] > 0:\n",
    "        tweet_news.at[i[0], 'sentiment'] = 1\n",
    "    elif score['compound'] == 0:\n",
    "        tweet_news.at[i[0], 'sentiment'] = 0\n",
    "    else:\n",
    "        tweet_news.at[i[0], 'sentiment'] = -1"
   ]
  },
  {
   "cell_type": "code",
   "execution_count": 201,
   "metadata": {},
   "outputs": [
    {
     "output_type": "execute_result",
     "data": {
      "text/plain": [
       "          date                                tweet_news_combined   score  \\\n",
       "0   2010-01-03  new blog post sterling flexibility has aided u... -0.9325   \n",
       "1   2010-01-04  new blog post eur usd sees decent bounce mkt n... -0.9918   \n",
       "2   2010-01-05  new blog post us name heavy sellers of aud mkt... -0.0000   \n",
       "3   2010-01-06  new blog post german econmin germany must rema... -0.9726   \n",
       "4   2010-01-07  new blog post eur usd lower on day usual suspe... -0.9652   \n",
       "5   2010-01-08  new blog post uk economy likely to be downgrad...  0.9735   \n",
       "6   2010-01-09  new blog post forexlive us wrap up payrolls fa...  0.0000   \n",
       "7   2010-01-10  new blog post a race the dollar is glad to los... -0.8689   \n",
       "8   2010-01-11  new blog post snb is hildebrand snb to continu... -0.9927   \n",
       "9   2010-01-12  new blog post us yields on the slide mkt new b...  0.3737   \n",
       "10  2010-01-13  new blog post eur usd reverses course swiss se...  0.9792   \n",
       "11  2010-01-14  new blog post us sells bln in year bonds at bi...  0.9453   \n",
       "12  2010-01-15  new blog post ecb is stark certain amount of i... -0.9271   \n",
       "13  2010-01-16  new blog post futures mark short dollars mkt n... -0.9349   \n",
       "14  2010-01-17  new blog post obama will not let free trade cu... -0.5109   \n",
       "15  2010-01-18  new blog post ecb prepares legal ground for eu...  0.8225   \n",
       "16  2010-01-19  new blog post uk cpi due out today may re info... -0.8824   \n",
       "17  2010-01-20  new blog post no respite for eur usd in early ... -0.9768   \n",
       "18  2010-01-21  new blog post eur usd slips back below mkt new... -0.7964   \n",
       "19  2010-01-22  new blog post eur usd slips back mkt new blog ...  0.9172   \n",
       "\n",
       "    sentiment  \n",
       "0        -1.0  \n",
       "1        -1.0  \n",
       "2         0.0  \n",
       "3        -1.0  \n",
       "4        -1.0  \n",
       "5         1.0  \n",
       "6         0.0  \n",
       "7        -1.0  \n",
       "8        -1.0  \n",
       "9         1.0  \n",
       "10        1.0  \n",
       "11        1.0  \n",
       "12       -1.0  \n",
       "13       -1.0  \n",
       "14       -1.0  \n",
       "15        1.0  \n",
       "16       -1.0  \n",
       "17       -1.0  \n",
       "18       -1.0  \n",
       "19        1.0  "
      ],
      "text/html": "<div>\n<style scoped>\n    .dataframe tbody tr th:only-of-type {\n        vertical-align: middle;\n    }\n\n    .dataframe tbody tr th {\n        vertical-align: top;\n    }\n\n    .dataframe thead th {\n        text-align: right;\n    }\n</style>\n<table border=\"1\" class=\"dataframe\">\n  <thead>\n    <tr style=\"text-align: right;\">\n      <th></th>\n      <th>date</th>\n      <th>tweet_news_combined</th>\n      <th>score</th>\n      <th>sentiment</th>\n    </tr>\n  </thead>\n  <tbody>\n    <tr>\n      <th>0</th>\n      <td>2010-01-03</td>\n      <td>new blog post sterling flexibility has aided u...</td>\n      <td>-0.9325</td>\n      <td>-1.0</td>\n    </tr>\n    <tr>\n      <th>1</th>\n      <td>2010-01-04</td>\n      <td>new blog post eur usd sees decent bounce mkt n...</td>\n      <td>-0.9918</td>\n      <td>-1.0</td>\n    </tr>\n    <tr>\n      <th>2</th>\n      <td>2010-01-05</td>\n      <td>new blog post us name heavy sellers of aud mkt...</td>\n      <td>-0.0000</td>\n      <td>0.0</td>\n    </tr>\n    <tr>\n      <th>3</th>\n      <td>2010-01-06</td>\n      <td>new blog post german econmin germany must rema...</td>\n      <td>-0.9726</td>\n      <td>-1.0</td>\n    </tr>\n    <tr>\n      <th>4</th>\n      <td>2010-01-07</td>\n      <td>new blog post eur usd lower on day usual suspe...</td>\n      <td>-0.9652</td>\n      <td>-1.0</td>\n    </tr>\n    <tr>\n      <th>5</th>\n      <td>2010-01-08</td>\n      <td>new blog post uk economy likely to be downgrad...</td>\n      <td>0.9735</td>\n      <td>1.0</td>\n    </tr>\n    <tr>\n      <th>6</th>\n      <td>2010-01-09</td>\n      <td>new blog post forexlive us wrap up payrolls fa...</td>\n      <td>0.0000</td>\n      <td>0.0</td>\n    </tr>\n    <tr>\n      <th>7</th>\n      <td>2010-01-10</td>\n      <td>new blog post a race the dollar is glad to los...</td>\n      <td>-0.8689</td>\n      <td>-1.0</td>\n    </tr>\n    <tr>\n      <th>8</th>\n      <td>2010-01-11</td>\n      <td>new blog post snb is hildebrand snb to continu...</td>\n      <td>-0.9927</td>\n      <td>-1.0</td>\n    </tr>\n    <tr>\n      <th>9</th>\n      <td>2010-01-12</td>\n      <td>new blog post us yields on the slide mkt new b...</td>\n      <td>0.3737</td>\n      <td>1.0</td>\n    </tr>\n    <tr>\n      <th>10</th>\n      <td>2010-01-13</td>\n      <td>new blog post eur usd reverses course swiss se...</td>\n      <td>0.9792</td>\n      <td>1.0</td>\n    </tr>\n    <tr>\n      <th>11</th>\n      <td>2010-01-14</td>\n      <td>new blog post us sells bln in year bonds at bi...</td>\n      <td>0.9453</td>\n      <td>1.0</td>\n    </tr>\n    <tr>\n      <th>12</th>\n      <td>2010-01-15</td>\n      <td>new blog post ecb is stark certain amount of i...</td>\n      <td>-0.9271</td>\n      <td>-1.0</td>\n    </tr>\n    <tr>\n      <th>13</th>\n      <td>2010-01-16</td>\n      <td>new blog post futures mark short dollars mkt n...</td>\n      <td>-0.9349</td>\n      <td>-1.0</td>\n    </tr>\n    <tr>\n      <th>14</th>\n      <td>2010-01-17</td>\n      <td>new blog post obama will not let free trade cu...</td>\n      <td>-0.5109</td>\n      <td>-1.0</td>\n    </tr>\n    <tr>\n      <th>15</th>\n      <td>2010-01-18</td>\n      <td>new blog post ecb prepares legal ground for eu...</td>\n      <td>0.8225</td>\n      <td>1.0</td>\n    </tr>\n    <tr>\n      <th>16</th>\n      <td>2010-01-19</td>\n      <td>new blog post uk cpi due out today may re info...</td>\n      <td>-0.8824</td>\n      <td>-1.0</td>\n    </tr>\n    <tr>\n      <th>17</th>\n      <td>2010-01-20</td>\n      <td>new blog post no respite for eur usd in early ...</td>\n      <td>-0.9768</td>\n      <td>-1.0</td>\n    </tr>\n    <tr>\n      <th>18</th>\n      <td>2010-01-21</td>\n      <td>new blog post eur usd slips back below mkt new...</td>\n      <td>-0.7964</td>\n      <td>-1.0</td>\n    </tr>\n    <tr>\n      <th>19</th>\n      <td>2010-01-22</td>\n      <td>new blog post eur usd slips back mkt new blog ...</td>\n      <td>0.9172</td>\n      <td>1.0</td>\n    </tr>\n  </tbody>\n</table>\n</div>"
     },
     "metadata": {},
     "execution_count": 201
    }
   ],
   "source": [
    "tweet_news.head(20)"
   ]
  },
  {
   "cell_type": "code",
   "execution_count": 203,
   "metadata": {},
   "outputs": [],
   "source": [
    "tweet_news.to_csv(\"data/sentiments.csv\", index=False)"
   ]
  },
  {
   "cell_type": "code",
   "execution_count": 204,
   "metadata": {},
   "outputs": [
    {
     "output_type": "execute_result",
     "data": {
      "text/plain": [
       "Text(0.5, 1.0, 'Count Plot on Sentiment Variable')"
      ]
     },
     "metadata": {},
     "execution_count": 204
    },
    {
     "output_type": "display_data",
     "data": {
      "text/plain": "<Figure size 720x360 with 1 Axes>",
      "image/svg+xml": "<?xml version=\"1.0\" encoding=\"utf-8\" standalone=\"no\"?>\r\n<!DOCTYPE svg PUBLIC \"-//W3C//DTD SVG 1.1//EN\"\r\n  \"http://www.w3.org/Graphics/SVG/1.1/DTD/svg11.dtd\">\r\n<!-- Created with matplotlib (https://matplotlib.org/) -->\r\n<svg height=\"331.674375pt\" version=\"1.1\" viewBox=\"0 0 618.528125 331.674375\" width=\"618.528125pt\" xmlns=\"http://www.w3.org/2000/svg\" xmlns:xlink=\"http://www.w3.org/1999/xlink\">\r\n <metadata>\r\n  <rdf:RDF xmlns:cc=\"http://creativecommons.org/ns#\" xmlns:dc=\"http://purl.org/dc/elements/1.1/\" xmlns:rdf=\"http://www.w3.org/1999/02/22-rdf-syntax-ns#\">\r\n   <cc:Work>\r\n    <dc:type rdf:resource=\"http://purl.org/dc/dcmitype/StillImage\"/>\r\n    <dc:date>2021-01-02T19:15:26.738872</dc:date>\r\n    <dc:format>image/svg+xml</dc:format>\r\n    <dc:creator>\r\n     <cc:Agent>\r\n      <dc:title>Matplotlib v3.3.2, https://matplotlib.org/</dc:title>\r\n     </cc:Agent>\r\n    </dc:creator>\r\n   </cc:Work>\r\n  </rdf:RDF>\r\n </metadata>\r\n <defs>\r\n  <style type=\"text/css\">*{stroke-linecap:butt;stroke-linejoin:round;}</style>\r\n </defs>\r\n <g id=\"figure_1\">\r\n  <g id=\"patch_1\">\r\n   <path d=\"M 0 331.674375 \r\nL 618.528125 331.674375 \r\nL 618.528125 0 \r\nL 0 0 \r\nz\r\n\" style=\"fill:none;\"/>\r\n  </g>\r\n  <g id=\"axes_1\">\r\n   <g id=\"patch_2\">\r\n    <path d=\"M 53.328125 294.118125 \r\nL 611.328125 294.118125 \r\nL 611.328125 22.318125 \r\nL 53.328125 22.318125 \r\nz\r\n\" style=\"fill:#ffffff;\"/>\r\n   </g>\r\n   <g id=\"patch_3\">\r\n    <path clip-path=\"url(#pd69d6dfe28)\" d=\"M 71.928125 294.118125 \r\nL 220.728125 294.118125 \r\nL 220.728125 35.260982 \r\nL 71.928125 35.260982 \r\nz\r\n\" style=\"fill:#3274a1;\"/>\r\n   </g>\r\n   <g id=\"patch_4\">\r\n    <path clip-path=\"url(#pd69d6dfe28)\" d=\"M 257.928125 294.118125 \r\nL 406.728125 294.118125 \r\nL 406.728125 269.036012 \r\nL 257.928125 269.036012 \r\nz\r\n\" style=\"fill:#e1812c;\"/>\r\n   </g>\r\n   <g id=\"patch_5\">\r\n    <path clip-path=\"url(#pd69d6dfe28)\" d=\"M 443.928125 294.118125 \r\nL 592.728125 294.118125 \r\nL 592.728125 88.590911 \r\nL 443.928125 88.590911 \r\nz\r\n\" style=\"fill:#3a923a;\"/>\r\n   </g>\r\n   <g id=\"matplotlib.axis_1\">\r\n    <g id=\"xtick_1\">\r\n     <g id=\"line2d_1\">\r\n      <defs>\r\n       <path d=\"M 0 0 \r\nL 0 3.5 \r\n\" id=\"mb446d3c9a8\" style=\"stroke:#000000;stroke-width:0.8;\"/>\r\n      </defs>\r\n      <g>\r\n       <use style=\"stroke:#000000;stroke-width:0.8;\" x=\"146.328125\" xlink:href=\"#mb446d3c9a8\" y=\"294.118125\"/>\r\n      </g>\r\n     </g>\r\n     <g id=\"text_1\">\r\n      <!-- -1.0 -->\r\n      <g transform=\"translate(136.572656 308.716563)scale(0.1 -0.1)\">\r\n       <defs>\r\n        <path d=\"M 4.890625 31.390625 \r\nL 31.203125 31.390625 \r\nL 31.203125 23.390625 \r\nL 4.890625 23.390625 \r\nz\r\n\" id=\"DejaVuSans-45\"/>\r\n        <path d=\"M 12.40625 8.296875 \r\nL 28.515625 8.296875 \r\nL 28.515625 63.921875 \r\nL 10.984375 60.40625 \r\nL 10.984375 69.390625 \r\nL 28.421875 72.90625 \r\nL 38.28125 72.90625 \r\nL 38.28125 8.296875 \r\nL 54.390625 8.296875 \r\nL 54.390625 0 \r\nL 12.40625 0 \r\nz\r\n\" id=\"DejaVuSans-49\"/>\r\n        <path d=\"M 10.6875 12.40625 \r\nL 21 12.40625 \r\nL 21 0 \r\nL 10.6875 0 \r\nz\r\n\" id=\"DejaVuSans-46\"/>\r\n        <path d=\"M 31.78125 66.40625 \r\nQ 24.171875 66.40625 20.328125 58.90625 \r\nQ 16.5 51.421875 16.5 36.375 \r\nQ 16.5 21.390625 20.328125 13.890625 \r\nQ 24.171875 6.390625 31.78125 6.390625 \r\nQ 39.453125 6.390625 43.28125 13.890625 \r\nQ 47.125 21.390625 47.125 36.375 \r\nQ 47.125 51.421875 43.28125 58.90625 \r\nQ 39.453125 66.40625 31.78125 66.40625 \r\nz\r\nM 31.78125 74.21875 \r\nQ 44.046875 74.21875 50.515625 64.515625 \r\nQ 56.984375 54.828125 56.984375 36.375 \r\nQ 56.984375 17.96875 50.515625 8.265625 \r\nQ 44.046875 -1.421875 31.78125 -1.421875 \r\nQ 19.53125 -1.421875 13.0625 8.265625 \r\nQ 6.59375 17.96875 6.59375 36.375 \r\nQ 6.59375 54.828125 13.0625 64.515625 \r\nQ 19.53125 74.21875 31.78125 74.21875 \r\nz\r\n\" id=\"DejaVuSans-48\"/>\r\n       </defs>\r\n       <use xlink:href=\"#DejaVuSans-45\"/>\r\n       <use x=\"36.083984\" xlink:href=\"#DejaVuSans-49\"/>\r\n       <use x=\"99.707031\" xlink:href=\"#DejaVuSans-46\"/>\r\n       <use x=\"131.494141\" xlink:href=\"#DejaVuSans-48\"/>\r\n      </g>\r\n     </g>\r\n    </g>\r\n    <g id=\"xtick_2\">\r\n     <g id=\"line2d_2\">\r\n      <g>\r\n       <use style=\"stroke:#000000;stroke-width:0.8;\" x=\"332.328125\" xlink:href=\"#mb446d3c9a8\" y=\"294.118125\"/>\r\n      </g>\r\n     </g>\r\n     <g id=\"text_2\">\r\n      <!-- 0.0 -->\r\n      <g transform=\"translate(324.376562 308.716563)scale(0.1 -0.1)\">\r\n       <use xlink:href=\"#DejaVuSans-48\"/>\r\n       <use x=\"63.623047\" xlink:href=\"#DejaVuSans-46\"/>\r\n       <use x=\"95.410156\" xlink:href=\"#DejaVuSans-48\"/>\r\n      </g>\r\n     </g>\r\n    </g>\r\n    <g id=\"xtick_3\">\r\n     <g id=\"line2d_3\">\r\n      <g>\r\n       <use style=\"stroke:#000000;stroke-width:0.8;\" x=\"518.328125\" xlink:href=\"#mb446d3c9a8\" y=\"294.118125\"/>\r\n      </g>\r\n     </g>\r\n     <g id=\"text_3\">\r\n      <!-- 1.0 -->\r\n      <g transform=\"translate(510.376562 308.716563)scale(0.1 -0.1)\">\r\n       <use xlink:href=\"#DejaVuSans-49\"/>\r\n       <use x=\"63.623047\" xlink:href=\"#DejaVuSans-46\"/>\r\n       <use x=\"95.410156\" xlink:href=\"#DejaVuSans-48\"/>\r\n      </g>\r\n     </g>\r\n    </g>\r\n    <g id=\"text_4\">\r\n     <!-- sentiment -->\r\n     <g transform=\"translate(307.053125 322.394687)scale(0.1 -0.1)\">\r\n      <defs>\r\n       <path d=\"M 44.28125 53.078125 \r\nL 44.28125 44.578125 \r\nQ 40.484375 46.53125 36.375 47.5 \r\nQ 32.28125 48.484375 27.875 48.484375 \r\nQ 21.1875 48.484375 17.84375 46.4375 \r\nQ 14.5 44.390625 14.5 40.28125 \r\nQ 14.5 37.15625 16.890625 35.375 \r\nQ 19.28125 33.59375 26.515625 31.984375 \r\nL 29.59375 31.296875 \r\nQ 39.15625 29.25 43.1875 25.515625 \r\nQ 47.21875 21.78125 47.21875 15.09375 \r\nQ 47.21875 7.46875 41.1875 3.015625 \r\nQ 35.15625 -1.421875 24.609375 -1.421875 \r\nQ 20.21875 -1.421875 15.453125 -0.5625 \r\nQ 10.6875 0.296875 5.421875 2 \r\nL 5.421875 11.28125 \r\nQ 10.40625 8.6875 15.234375 7.390625 \r\nQ 20.0625 6.109375 24.8125 6.109375 \r\nQ 31.15625 6.109375 34.5625 8.28125 \r\nQ 37.984375 10.453125 37.984375 14.40625 \r\nQ 37.984375 18.0625 35.515625 20.015625 \r\nQ 33.0625 21.96875 24.703125 23.78125 \r\nL 21.578125 24.515625 \r\nQ 13.234375 26.265625 9.515625 29.90625 \r\nQ 5.8125 33.546875 5.8125 39.890625 \r\nQ 5.8125 47.609375 11.28125 51.796875 \r\nQ 16.75 56 26.8125 56 \r\nQ 31.78125 56 36.171875 55.265625 \r\nQ 40.578125 54.546875 44.28125 53.078125 \r\nz\r\n\" id=\"DejaVuSans-115\"/>\r\n       <path d=\"M 56.203125 29.59375 \r\nL 56.203125 25.203125 \r\nL 14.890625 25.203125 \r\nQ 15.484375 15.921875 20.484375 11.0625 \r\nQ 25.484375 6.203125 34.421875 6.203125 \r\nQ 39.59375 6.203125 44.453125 7.46875 \r\nQ 49.3125 8.734375 54.109375 11.28125 \r\nL 54.109375 2.78125 \r\nQ 49.265625 0.734375 44.1875 -0.34375 \r\nQ 39.109375 -1.421875 33.890625 -1.421875 \r\nQ 20.796875 -1.421875 13.15625 6.1875 \r\nQ 5.515625 13.8125 5.515625 26.8125 \r\nQ 5.515625 40.234375 12.765625 48.109375 \r\nQ 20.015625 56 32.328125 56 \r\nQ 43.359375 56 49.78125 48.890625 \r\nQ 56.203125 41.796875 56.203125 29.59375 \r\nz\r\nM 47.21875 32.234375 \r\nQ 47.125 39.59375 43.09375 43.984375 \r\nQ 39.0625 48.390625 32.421875 48.390625 \r\nQ 24.90625 48.390625 20.390625 44.140625 \r\nQ 15.875 39.890625 15.1875 32.171875 \r\nz\r\n\" id=\"DejaVuSans-101\"/>\r\n       <path d=\"M 54.890625 33.015625 \r\nL 54.890625 0 \r\nL 45.90625 0 \r\nL 45.90625 32.71875 \r\nQ 45.90625 40.484375 42.875 44.328125 \r\nQ 39.84375 48.1875 33.796875 48.1875 \r\nQ 26.515625 48.1875 22.3125 43.546875 \r\nQ 18.109375 38.921875 18.109375 30.90625 \r\nL 18.109375 0 \r\nL 9.078125 0 \r\nL 9.078125 54.6875 \r\nL 18.109375 54.6875 \r\nL 18.109375 46.1875 \r\nQ 21.34375 51.125 25.703125 53.5625 \r\nQ 30.078125 56 35.796875 56 \r\nQ 45.21875 56 50.046875 50.171875 \r\nQ 54.890625 44.34375 54.890625 33.015625 \r\nz\r\n\" id=\"DejaVuSans-110\"/>\r\n       <path d=\"M 18.3125 70.21875 \r\nL 18.3125 54.6875 \r\nL 36.8125 54.6875 \r\nL 36.8125 47.703125 \r\nL 18.3125 47.703125 \r\nL 18.3125 18.015625 \r\nQ 18.3125 11.328125 20.140625 9.421875 \r\nQ 21.96875 7.515625 27.59375 7.515625 \r\nL 36.8125 7.515625 \r\nL 36.8125 0 \r\nL 27.59375 0 \r\nQ 17.1875 0 13.234375 3.875 \r\nQ 9.28125 7.765625 9.28125 18.015625 \r\nL 9.28125 47.703125 \r\nL 2.6875 47.703125 \r\nL 2.6875 54.6875 \r\nL 9.28125 54.6875 \r\nL 9.28125 70.21875 \r\nz\r\n\" id=\"DejaVuSans-116\"/>\r\n       <path d=\"M 9.421875 54.6875 \r\nL 18.40625 54.6875 \r\nL 18.40625 0 \r\nL 9.421875 0 \r\nz\r\nM 9.421875 75.984375 \r\nL 18.40625 75.984375 \r\nL 18.40625 64.59375 \r\nL 9.421875 64.59375 \r\nz\r\n\" id=\"DejaVuSans-105\"/>\r\n       <path d=\"M 52 44.1875 \r\nQ 55.375 50.25 60.0625 53.125 \r\nQ 64.75 56 71.09375 56 \r\nQ 79.640625 56 84.28125 50.015625 \r\nQ 88.921875 44.046875 88.921875 33.015625 \r\nL 88.921875 0 \r\nL 79.890625 0 \r\nL 79.890625 32.71875 \r\nQ 79.890625 40.578125 77.09375 44.375 \r\nQ 74.3125 48.1875 68.609375 48.1875 \r\nQ 61.625 48.1875 57.5625 43.546875 \r\nQ 53.515625 38.921875 53.515625 30.90625 \r\nL 53.515625 0 \r\nL 44.484375 0 \r\nL 44.484375 32.71875 \r\nQ 44.484375 40.625 41.703125 44.40625 \r\nQ 38.921875 48.1875 33.109375 48.1875 \r\nQ 26.21875 48.1875 22.15625 43.53125 \r\nQ 18.109375 38.875 18.109375 30.90625 \r\nL 18.109375 0 \r\nL 9.078125 0 \r\nL 9.078125 54.6875 \r\nL 18.109375 54.6875 \r\nL 18.109375 46.1875 \r\nQ 21.1875 51.21875 25.484375 53.609375 \r\nQ 29.78125 56 35.6875 56 \r\nQ 41.65625 56 45.828125 52.96875 \r\nQ 50 49.953125 52 44.1875 \r\nz\r\n\" id=\"DejaVuSans-109\"/>\r\n      </defs>\r\n      <use xlink:href=\"#DejaVuSans-115\"/>\r\n      <use x=\"52.099609\" xlink:href=\"#DejaVuSans-101\"/>\r\n      <use x=\"113.623047\" xlink:href=\"#DejaVuSans-110\"/>\r\n      <use x=\"177.001953\" xlink:href=\"#DejaVuSans-116\"/>\r\n      <use x=\"216.210938\" xlink:href=\"#DejaVuSans-105\"/>\r\n      <use x=\"243.994141\" xlink:href=\"#DejaVuSans-109\"/>\r\n      <use x=\"341.40625\" xlink:href=\"#DejaVuSans-101\"/>\r\n      <use x=\"402.929688\" xlink:href=\"#DejaVuSans-110\"/>\r\n      <use x=\"466.308594\" xlink:href=\"#DejaVuSans-116\"/>\r\n     </g>\r\n    </g>\r\n   </g>\r\n   <g id=\"matplotlib.axis_2\">\r\n    <g id=\"ytick_1\">\r\n     <g id=\"line2d_4\">\r\n      <defs>\r\n       <path d=\"M 0 0 \r\nL -3.5 0 \r\n\" id=\"m3dcfaf4c1a\" style=\"stroke:#000000;stroke-width:0.8;\"/>\r\n      </defs>\r\n      <g>\r\n       <use style=\"stroke:#000000;stroke-width:0.8;\" x=\"53.328125\" xlink:href=\"#m3dcfaf4c1a\" y=\"294.118125\"/>\r\n      </g>\r\n     </g>\r\n     <g id=\"text_5\">\r\n      <!-- 0 -->\r\n      <g transform=\"translate(39.965625 297.917344)scale(0.1 -0.1)\">\r\n       <use xlink:href=\"#DejaVuSans-48\"/>\r\n      </g>\r\n     </g>\r\n    </g>\r\n    <g id=\"ytick_2\">\r\n     <g id=\"line2d_5\">\r\n      <g>\r\n       <use style=\"stroke:#000000;stroke-width:0.8;\" x=\"53.328125\" xlink:href=\"#m3dcfaf4c1a\" y=\"245.414994\"/>\r\n      </g>\r\n     </g>\r\n     <g id=\"text_6\">\r\n      <!-- 200 -->\r\n      <g transform=\"translate(27.240625 249.214212)scale(0.1 -0.1)\">\r\n       <defs>\r\n        <path d=\"M 19.1875 8.296875 \r\nL 53.609375 8.296875 \r\nL 53.609375 0 \r\nL 7.328125 0 \r\nL 7.328125 8.296875 \r\nQ 12.9375 14.109375 22.625 23.890625 \r\nQ 32.328125 33.6875 34.8125 36.53125 \r\nQ 39.546875 41.84375 41.421875 45.53125 \r\nQ 43.3125 49.21875 43.3125 52.78125 \r\nQ 43.3125 58.59375 39.234375 62.25 \r\nQ 35.15625 65.921875 28.609375 65.921875 \r\nQ 23.96875 65.921875 18.8125 64.3125 \r\nQ 13.671875 62.703125 7.8125 59.421875 \r\nL 7.8125 69.390625 \r\nQ 13.765625 71.78125 18.9375 73 \r\nQ 24.125 74.21875 28.421875 74.21875 \r\nQ 39.75 74.21875 46.484375 68.546875 \r\nQ 53.21875 62.890625 53.21875 53.421875 \r\nQ 53.21875 48.921875 51.53125 44.890625 \r\nQ 49.859375 40.875 45.40625 35.40625 \r\nQ 44.1875 33.984375 37.640625 27.21875 \r\nQ 31.109375 20.453125 19.1875 8.296875 \r\nz\r\n\" id=\"DejaVuSans-50\"/>\r\n       </defs>\r\n       <use xlink:href=\"#DejaVuSans-50\"/>\r\n       <use x=\"63.623047\" xlink:href=\"#DejaVuSans-48\"/>\r\n       <use x=\"127.246094\" xlink:href=\"#DejaVuSans-48\"/>\r\n      </g>\r\n     </g>\r\n    </g>\r\n    <g id=\"ytick_3\">\r\n     <g id=\"line2d_6\">\r\n      <g>\r\n       <use style=\"stroke:#000000;stroke-width:0.8;\" x=\"53.328125\" xlink:href=\"#m3dcfaf4c1a\" y=\"196.711862\"/>\r\n      </g>\r\n     </g>\r\n     <g id=\"text_7\">\r\n      <!-- 400 -->\r\n      <g transform=\"translate(27.240625 200.511081)scale(0.1 -0.1)\">\r\n       <defs>\r\n        <path d=\"M 37.796875 64.3125 \r\nL 12.890625 25.390625 \r\nL 37.796875 25.390625 \r\nz\r\nM 35.203125 72.90625 \r\nL 47.609375 72.90625 \r\nL 47.609375 25.390625 \r\nL 58.015625 25.390625 \r\nL 58.015625 17.1875 \r\nL 47.609375 17.1875 \r\nL 47.609375 0 \r\nL 37.796875 0 \r\nL 37.796875 17.1875 \r\nL 4.890625 17.1875 \r\nL 4.890625 26.703125 \r\nz\r\n\" id=\"DejaVuSans-52\"/>\r\n       </defs>\r\n       <use xlink:href=\"#DejaVuSans-52\"/>\r\n       <use x=\"63.623047\" xlink:href=\"#DejaVuSans-48\"/>\r\n       <use x=\"127.246094\" xlink:href=\"#DejaVuSans-48\"/>\r\n      </g>\r\n     </g>\r\n    </g>\r\n    <g id=\"ytick_4\">\r\n     <g id=\"line2d_7\">\r\n      <g>\r\n       <use style=\"stroke:#000000;stroke-width:0.8;\" x=\"53.328125\" xlink:href=\"#m3dcfaf4c1a\" y=\"148.008731\"/>\r\n      </g>\r\n     </g>\r\n     <g id=\"text_8\">\r\n      <!-- 600 -->\r\n      <g transform=\"translate(27.240625 151.80795)scale(0.1 -0.1)\">\r\n       <defs>\r\n        <path d=\"M 33.015625 40.375 \r\nQ 26.375 40.375 22.484375 35.828125 \r\nQ 18.609375 31.296875 18.609375 23.390625 \r\nQ 18.609375 15.53125 22.484375 10.953125 \r\nQ 26.375 6.390625 33.015625 6.390625 \r\nQ 39.65625 6.390625 43.53125 10.953125 \r\nQ 47.40625 15.53125 47.40625 23.390625 \r\nQ 47.40625 31.296875 43.53125 35.828125 \r\nQ 39.65625 40.375 33.015625 40.375 \r\nz\r\nM 52.59375 71.296875 \r\nL 52.59375 62.3125 \r\nQ 48.875 64.0625 45.09375 64.984375 \r\nQ 41.3125 65.921875 37.59375 65.921875 \r\nQ 27.828125 65.921875 22.671875 59.328125 \r\nQ 17.53125 52.734375 16.796875 39.40625 \r\nQ 19.671875 43.65625 24.015625 45.921875 \r\nQ 28.375 48.1875 33.59375 48.1875 \r\nQ 44.578125 48.1875 50.953125 41.515625 \r\nQ 57.328125 34.859375 57.328125 23.390625 \r\nQ 57.328125 12.15625 50.6875 5.359375 \r\nQ 44.046875 -1.421875 33.015625 -1.421875 \r\nQ 20.359375 -1.421875 13.671875 8.265625 \r\nQ 6.984375 17.96875 6.984375 36.375 \r\nQ 6.984375 53.65625 15.1875 63.9375 \r\nQ 23.390625 74.21875 37.203125 74.21875 \r\nQ 40.921875 74.21875 44.703125 73.484375 \r\nQ 48.484375 72.75 52.59375 71.296875 \r\nz\r\n\" id=\"DejaVuSans-54\"/>\r\n       </defs>\r\n       <use xlink:href=\"#DejaVuSans-54\"/>\r\n       <use x=\"63.623047\" xlink:href=\"#DejaVuSans-48\"/>\r\n       <use x=\"127.246094\" xlink:href=\"#DejaVuSans-48\"/>\r\n      </g>\r\n     </g>\r\n    </g>\r\n    <g id=\"ytick_5\">\r\n     <g id=\"line2d_8\">\r\n      <g>\r\n       <use style=\"stroke:#000000;stroke-width:0.8;\" x=\"53.328125\" xlink:href=\"#m3dcfaf4c1a\" y=\"99.3056\"/>\r\n      </g>\r\n     </g>\r\n     <g id=\"text_9\">\r\n      <!-- 800 -->\r\n      <g transform=\"translate(27.240625 103.104819)scale(0.1 -0.1)\">\r\n       <defs>\r\n        <path d=\"M 31.78125 34.625 \r\nQ 24.75 34.625 20.71875 30.859375 \r\nQ 16.703125 27.09375 16.703125 20.515625 \r\nQ 16.703125 13.921875 20.71875 10.15625 \r\nQ 24.75 6.390625 31.78125 6.390625 \r\nQ 38.8125 6.390625 42.859375 10.171875 \r\nQ 46.921875 13.96875 46.921875 20.515625 \r\nQ 46.921875 27.09375 42.890625 30.859375 \r\nQ 38.875 34.625 31.78125 34.625 \r\nz\r\nM 21.921875 38.8125 \r\nQ 15.578125 40.375 12.03125 44.71875 \r\nQ 8.5 49.078125 8.5 55.328125 \r\nQ 8.5 64.0625 14.71875 69.140625 \r\nQ 20.953125 74.21875 31.78125 74.21875 \r\nQ 42.671875 74.21875 48.875 69.140625 \r\nQ 55.078125 64.0625 55.078125 55.328125 \r\nQ 55.078125 49.078125 51.53125 44.71875 \r\nQ 48 40.375 41.703125 38.8125 \r\nQ 48.828125 37.15625 52.796875 32.3125 \r\nQ 56.78125 27.484375 56.78125 20.515625 \r\nQ 56.78125 9.90625 50.3125 4.234375 \r\nQ 43.84375 -1.421875 31.78125 -1.421875 \r\nQ 19.734375 -1.421875 13.25 4.234375 \r\nQ 6.78125 9.90625 6.78125 20.515625 \r\nQ 6.78125 27.484375 10.78125 32.3125 \r\nQ 14.796875 37.15625 21.921875 38.8125 \r\nz\r\nM 18.3125 54.390625 \r\nQ 18.3125 48.734375 21.84375 45.5625 \r\nQ 25.390625 42.390625 31.78125 42.390625 \r\nQ 38.140625 42.390625 41.71875 45.5625 \r\nQ 45.3125 48.734375 45.3125 54.390625 \r\nQ 45.3125 60.0625 41.71875 63.234375 \r\nQ 38.140625 66.40625 31.78125 66.40625 \r\nQ 25.390625 66.40625 21.84375 63.234375 \r\nQ 18.3125 60.0625 18.3125 54.390625 \r\nz\r\n\" id=\"DejaVuSans-56\"/>\r\n       </defs>\r\n       <use xlink:href=\"#DejaVuSans-56\"/>\r\n       <use x=\"63.623047\" xlink:href=\"#DejaVuSans-48\"/>\r\n       <use x=\"127.246094\" xlink:href=\"#DejaVuSans-48\"/>\r\n      </g>\r\n     </g>\r\n    </g>\r\n    <g id=\"ytick_6\">\r\n     <g id=\"line2d_9\">\r\n      <g>\r\n       <use style=\"stroke:#000000;stroke-width:0.8;\" x=\"53.328125\" xlink:href=\"#m3dcfaf4c1a\" y=\"50.602469\"/>\r\n      </g>\r\n     </g>\r\n     <g id=\"text_10\">\r\n      <!-- 1000 -->\r\n      <g transform=\"translate(20.878125 54.401687)scale(0.1 -0.1)\">\r\n       <use xlink:href=\"#DejaVuSans-49\"/>\r\n       <use x=\"63.623047\" xlink:href=\"#DejaVuSans-48\"/>\r\n       <use x=\"127.246094\" xlink:href=\"#DejaVuSans-48\"/>\r\n       <use x=\"190.869141\" xlink:href=\"#DejaVuSans-48\"/>\r\n      </g>\r\n     </g>\r\n    </g>\r\n    <g id=\"text_11\">\r\n     <!-- count -->\r\n     <g transform=\"translate(14.798438 172.324375)rotate(-90)scale(0.1 -0.1)\">\r\n      <defs>\r\n       <path d=\"M 48.78125 52.59375 \r\nL 48.78125 44.1875 \r\nQ 44.96875 46.296875 41.140625 47.34375 \r\nQ 37.3125 48.390625 33.40625 48.390625 \r\nQ 24.65625 48.390625 19.8125 42.84375 \r\nQ 14.984375 37.3125 14.984375 27.296875 \r\nQ 14.984375 17.28125 19.8125 11.734375 \r\nQ 24.65625 6.203125 33.40625 6.203125 \r\nQ 37.3125 6.203125 41.140625 7.25 \r\nQ 44.96875 8.296875 48.78125 10.40625 \r\nL 48.78125 2.09375 \r\nQ 45.015625 0.34375 40.984375 -0.53125 \r\nQ 36.96875 -1.421875 32.421875 -1.421875 \r\nQ 20.0625 -1.421875 12.78125 6.34375 \r\nQ 5.515625 14.109375 5.515625 27.296875 \r\nQ 5.515625 40.671875 12.859375 48.328125 \r\nQ 20.21875 56 33.015625 56 \r\nQ 37.15625 56 41.109375 55.140625 \r\nQ 45.0625 54.296875 48.78125 52.59375 \r\nz\r\n\" id=\"DejaVuSans-99\"/>\r\n       <path d=\"M 30.609375 48.390625 \r\nQ 23.390625 48.390625 19.1875 42.75 \r\nQ 14.984375 37.109375 14.984375 27.296875 \r\nQ 14.984375 17.484375 19.15625 11.84375 \r\nQ 23.34375 6.203125 30.609375 6.203125 \r\nQ 37.796875 6.203125 41.984375 11.859375 \r\nQ 46.1875 17.53125 46.1875 27.296875 \r\nQ 46.1875 37.015625 41.984375 42.703125 \r\nQ 37.796875 48.390625 30.609375 48.390625 \r\nz\r\nM 30.609375 56 \r\nQ 42.328125 56 49.015625 48.375 \r\nQ 55.71875 40.765625 55.71875 27.296875 \r\nQ 55.71875 13.875 49.015625 6.21875 \r\nQ 42.328125 -1.421875 30.609375 -1.421875 \r\nQ 18.84375 -1.421875 12.171875 6.21875 \r\nQ 5.515625 13.875 5.515625 27.296875 \r\nQ 5.515625 40.765625 12.171875 48.375 \r\nQ 18.84375 56 30.609375 56 \r\nz\r\n\" id=\"DejaVuSans-111\"/>\r\n       <path d=\"M 8.5 21.578125 \r\nL 8.5 54.6875 \r\nL 17.484375 54.6875 \r\nL 17.484375 21.921875 \r\nQ 17.484375 14.15625 20.5 10.265625 \r\nQ 23.53125 6.390625 29.59375 6.390625 \r\nQ 36.859375 6.390625 41.078125 11.03125 \r\nQ 45.3125 15.671875 45.3125 23.6875 \r\nL 45.3125 54.6875 \r\nL 54.296875 54.6875 \r\nL 54.296875 0 \r\nL 45.3125 0 \r\nL 45.3125 8.40625 \r\nQ 42.046875 3.421875 37.71875 1 \r\nQ 33.40625 -1.421875 27.6875 -1.421875 \r\nQ 18.265625 -1.421875 13.375 4.4375 \r\nQ 8.5 10.296875 8.5 21.578125 \r\nz\r\nM 31.109375 56 \r\nz\r\n\" id=\"DejaVuSans-117\"/>\r\n      </defs>\r\n      <use xlink:href=\"#DejaVuSans-99\"/>\r\n      <use x=\"54.980469\" xlink:href=\"#DejaVuSans-111\"/>\r\n      <use x=\"116.162109\" xlink:href=\"#DejaVuSans-117\"/>\r\n      <use x=\"179.541016\" xlink:href=\"#DejaVuSans-110\"/>\r\n      <use x=\"242.919922\" xlink:href=\"#DejaVuSans-116\"/>\r\n     </g>\r\n    </g>\r\n   </g>\r\n   <g id=\"patch_6\">\r\n    <path d=\"M 53.328125 294.118125 \r\nL 53.328125 22.318125 \r\n\" style=\"fill:none;stroke:#000000;stroke-linecap:square;stroke-linejoin:miter;stroke-width:0.8;\"/>\r\n   </g>\r\n   <g id=\"patch_7\">\r\n    <path d=\"M 611.328125 294.118125 \r\nL 611.328125 22.318125 \r\n\" style=\"fill:none;stroke:#000000;stroke-linecap:square;stroke-linejoin:miter;stroke-width:0.8;\"/>\r\n   </g>\r\n   <g id=\"patch_8\">\r\n    <path d=\"M 53.328125 294.118125 \r\nL 611.328125 294.118125 \r\n\" style=\"fill:none;stroke:#000000;stroke-linecap:square;stroke-linejoin:miter;stroke-width:0.8;\"/>\r\n   </g>\r\n   <g id=\"patch_9\">\r\n    <path d=\"M 53.328125 22.318125 \r\nL 611.328125 22.318125 \r\n\" style=\"fill:none;stroke:#000000;stroke-linecap:square;stroke-linejoin:miter;stroke-width:0.8;\"/>\r\n   </g>\r\n   <g id=\"text_12\">\r\n    <!-- Count Plot on Sentiment Variable -->\r\n    <g transform=\"translate(232.792812 16.318125)scale(0.12 -0.12)\">\r\n     <defs>\r\n      <path d=\"M 64.40625 67.28125 \r\nL 64.40625 56.890625 \r\nQ 59.421875 61.53125 53.78125 63.8125 \r\nQ 48.140625 66.109375 41.796875 66.109375 \r\nQ 29.296875 66.109375 22.65625 58.46875 \r\nQ 16.015625 50.828125 16.015625 36.375 \r\nQ 16.015625 21.96875 22.65625 14.328125 \r\nQ 29.296875 6.6875 41.796875 6.6875 \r\nQ 48.140625 6.6875 53.78125 8.984375 \r\nQ 59.421875 11.28125 64.40625 15.921875 \r\nL 64.40625 5.609375 \r\nQ 59.234375 2.09375 53.4375 0.328125 \r\nQ 47.65625 -1.421875 41.21875 -1.421875 \r\nQ 24.65625 -1.421875 15.125 8.703125 \r\nQ 5.609375 18.84375 5.609375 36.375 \r\nQ 5.609375 53.953125 15.125 64.078125 \r\nQ 24.65625 74.21875 41.21875 74.21875 \r\nQ 47.75 74.21875 53.53125 72.484375 \r\nQ 59.328125 70.75 64.40625 67.28125 \r\nz\r\n\" id=\"DejaVuSans-67\"/>\r\n      <path id=\"DejaVuSans-32\"/>\r\n      <path d=\"M 19.671875 64.796875 \r\nL 19.671875 37.40625 \r\nL 32.078125 37.40625 \r\nQ 38.96875 37.40625 42.71875 40.96875 \r\nQ 46.484375 44.53125 46.484375 51.125 \r\nQ 46.484375 57.671875 42.71875 61.234375 \r\nQ 38.96875 64.796875 32.078125 64.796875 \r\nz\r\nM 9.8125 72.90625 \r\nL 32.078125 72.90625 \r\nQ 44.34375 72.90625 50.609375 67.359375 \r\nQ 56.890625 61.8125 56.890625 51.125 \r\nQ 56.890625 40.328125 50.609375 34.8125 \r\nQ 44.34375 29.296875 32.078125 29.296875 \r\nL 19.671875 29.296875 \r\nL 19.671875 0 \r\nL 9.8125 0 \r\nz\r\n\" id=\"DejaVuSans-80\"/>\r\n      <path d=\"M 9.421875 75.984375 \r\nL 18.40625 75.984375 \r\nL 18.40625 0 \r\nL 9.421875 0 \r\nz\r\n\" id=\"DejaVuSans-108\"/>\r\n      <path d=\"M 53.515625 70.515625 \r\nL 53.515625 60.890625 \r\nQ 47.90625 63.578125 42.921875 64.890625 \r\nQ 37.9375 66.21875 33.296875 66.21875 \r\nQ 25.25 66.21875 20.875 63.09375 \r\nQ 16.5 59.96875 16.5 54.203125 \r\nQ 16.5 49.359375 19.40625 46.890625 \r\nQ 22.3125 44.4375 30.421875 42.921875 \r\nL 36.375 41.703125 \r\nQ 47.40625 39.59375 52.65625 34.296875 \r\nQ 57.90625 29 57.90625 20.125 \r\nQ 57.90625 9.515625 50.796875 4.046875 \r\nQ 43.703125 -1.421875 29.984375 -1.421875 \r\nQ 24.8125 -1.421875 18.96875 -0.25 \r\nQ 13.140625 0.921875 6.890625 3.21875 \r\nL 6.890625 13.375 \r\nQ 12.890625 10.015625 18.65625 8.296875 \r\nQ 24.421875 6.59375 29.984375 6.59375 \r\nQ 38.421875 6.59375 43.015625 9.90625 \r\nQ 47.609375 13.234375 47.609375 19.390625 \r\nQ 47.609375 24.75 44.3125 27.78125 \r\nQ 41.015625 30.8125 33.5 32.328125 \r\nL 27.484375 33.5 \r\nQ 16.453125 35.6875 11.515625 40.375 \r\nQ 6.59375 45.0625 6.59375 53.421875 \r\nQ 6.59375 63.09375 13.40625 68.65625 \r\nQ 20.21875 74.21875 32.171875 74.21875 \r\nQ 37.3125 74.21875 42.625 73.28125 \r\nQ 47.953125 72.359375 53.515625 70.515625 \r\nz\r\n\" id=\"DejaVuSans-83\"/>\r\n      <path d=\"M 28.609375 0 \r\nL 0.78125 72.90625 \r\nL 11.078125 72.90625 \r\nL 34.1875 11.53125 \r\nL 57.328125 72.90625 \r\nL 67.578125 72.90625 \r\nL 39.796875 0 \r\nz\r\n\" id=\"DejaVuSans-86\"/>\r\n      <path d=\"M 34.28125 27.484375 \r\nQ 23.390625 27.484375 19.1875 25 \r\nQ 14.984375 22.515625 14.984375 16.5 \r\nQ 14.984375 11.71875 18.140625 8.90625 \r\nQ 21.296875 6.109375 26.703125 6.109375 \r\nQ 34.1875 6.109375 38.703125 11.40625 \r\nQ 43.21875 16.703125 43.21875 25.484375 \r\nL 43.21875 27.484375 \r\nz\r\nM 52.203125 31.203125 \r\nL 52.203125 0 \r\nL 43.21875 0 \r\nL 43.21875 8.296875 \r\nQ 40.140625 3.328125 35.546875 0.953125 \r\nQ 30.953125 -1.421875 24.3125 -1.421875 \r\nQ 15.921875 -1.421875 10.953125 3.296875 \r\nQ 6 8.015625 6 15.921875 \r\nQ 6 25.140625 12.171875 29.828125 \r\nQ 18.359375 34.515625 30.609375 34.515625 \r\nL 43.21875 34.515625 \r\nL 43.21875 35.40625 \r\nQ 43.21875 41.609375 39.140625 45 \r\nQ 35.0625 48.390625 27.6875 48.390625 \r\nQ 23 48.390625 18.546875 47.265625 \r\nQ 14.109375 46.140625 10.015625 43.890625 \r\nL 10.015625 52.203125 \r\nQ 14.9375 54.109375 19.578125 55.046875 \r\nQ 24.21875 56 28.609375 56 \r\nQ 40.484375 56 46.34375 49.84375 \r\nQ 52.203125 43.703125 52.203125 31.203125 \r\nz\r\n\" id=\"DejaVuSans-97\"/>\r\n      <path d=\"M 41.109375 46.296875 \r\nQ 39.59375 47.171875 37.8125 47.578125 \r\nQ 36.03125 48 33.890625 48 \r\nQ 26.265625 48 22.1875 43.046875 \r\nQ 18.109375 38.09375 18.109375 28.8125 \r\nL 18.109375 0 \r\nL 9.078125 0 \r\nL 9.078125 54.6875 \r\nL 18.109375 54.6875 \r\nL 18.109375 46.1875 \r\nQ 20.953125 51.171875 25.484375 53.578125 \r\nQ 30.03125 56 36.53125 56 \r\nQ 37.453125 56 38.578125 55.875 \r\nQ 39.703125 55.765625 41.0625 55.515625 \r\nz\r\n\" id=\"DejaVuSans-114\"/>\r\n      <path d=\"M 48.6875 27.296875 \r\nQ 48.6875 37.203125 44.609375 42.84375 \r\nQ 40.53125 48.484375 33.40625 48.484375 \r\nQ 26.265625 48.484375 22.1875 42.84375 \r\nQ 18.109375 37.203125 18.109375 27.296875 \r\nQ 18.109375 17.390625 22.1875 11.75 \r\nQ 26.265625 6.109375 33.40625 6.109375 \r\nQ 40.53125 6.109375 44.609375 11.75 \r\nQ 48.6875 17.390625 48.6875 27.296875 \r\nz\r\nM 18.109375 46.390625 \r\nQ 20.953125 51.265625 25.265625 53.625 \r\nQ 29.59375 56 35.59375 56 \r\nQ 45.5625 56 51.78125 48.09375 \r\nQ 58.015625 40.1875 58.015625 27.296875 \r\nQ 58.015625 14.40625 51.78125 6.484375 \r\nQ 45.5625 -1.421875 35.59375 -1.421875 \r\nQ 29.59375 -1.421875 25.265625 0.953125 \r\nQ 20.953125 3.328125 18.109375 8.203125 \r\nL 18.109375 0 \r\nL 9.078125 0 \r\nL 9.078125 75.984375 \r\nL 18.109375 75.984375 \r\nz\r\n\" id=\"DejaVuSans-98\"/>\r\n     </defs>\r\n     <use xlink:href=\"#DejaVuSans-67\"/>\r\n     <use x=\"69.824219\" xlink:href=\"#DejaVuSans-111\"/>\r\n     <use x=\"131.005859\" xlink:href=\"#DejaVuSans-117\"/>\r\n     <use x=\"194.384766\" xlink:href=\"#DejaVuSans-110\"/>\r\n     <use x=\"257.763672\" xlink:href=\"#DejaVuSans-116\"/>\r\n     <use x=\"296.972656\" xlink:href=\"#DejaVuSans-32\"/>\r\n     <use x=\"328.759766\" xlink:href=\"#DejaVuSans-80\"/>\r\n     <use x=\"389.0625\" xlink:href=\"#DejaVuSans-108\"/>\r\n     <use x=\"416.845703\" xlink:href=\"#DejaVuSans-111\"/>\r\n     <use x=\"478.027344\" xlink:href=\"#DejaVuSans-116\"/>\r\n     <use x=\"517.236328\" xlink:href=\"#DejaVuSans-32\"/>\r\n     <use x=\"549.023438\" xlink:href=\"#DejaVuSans-111\"/>\r\n     <use x=\"610.205078\" xlink:href=\"#DejaVuSans-110\"/>\r\n     <use x=\"673.583984\" xlink:href=\"#DejaVuSans-32\"/>\r\n     <use x=\"705.371094\" xlink:href=\"#DejaVuSans-83\"/>\r\n     <use x=\"768.847656\" xlink:href=\"#DejaVuSans-101\"/>\r\n     <use x=\"830.371094\" xlink:href=\"#DejaVuSans-110\"/>\r\n     <use x=\"893.75\" xlink:href=\"#DejaVuSans-116\"/>\r\n     <use x=\"932.958984\" xlink:href=\"#DejaVuSans-105\"/>\r\n     <use x=\"960.742188\" xlink:href=\"#DejaVuSans-109\"/>\r\n     <use x=\"1058.154297\" xlink:href=\"#DejaVuSans-101\"/>\r\n     <use x=\"1119.677734\" xlink:href=\"#DejaVuSans-110\"/>\r\n     <use x=\"1183.056641\" xlink:href=\"#DejaVuSans-116\"/>\r\n     <use x=\"1222.265625\" xlink:href=\"#DejaVuSans-32\"/>\r\n     <use x=\"1254.052734\" xlink:href=\"#DejaVuSans-86\"/>\r\n     <use x=\"1314.710938\" xlink:href=\"#DejaVuSans-97\"/>\r\n     <use x=\"1375.990234\" xlink:href=\"#DejaVuSans-114\"/>\r\n     <use x=\"1417.103516\" xlink:href=\"#DejaVuSans-105\"/>\r\n     <use x=\"1444.886719\" xlink:href=\"#DejaVuSans-97\"/>\r\n     <use x=\"1506.166016\" xlink:href=\"#DejaVuSans-98\"/>\r\n     <use x=\"1569.642578\" xlink:href=\"#DejaVuSans-108\"/>\r\n     <use x=\"1597.425781\" xlink:href=\"#DejaVuSans-101\"/>\r\n    </g>\r\n   </g>\r\n  </g>\r\n </g>\r\n <defs>\r\n  <clipPath id=\"pd69d6dfe28\">\r\n   <rect height=\"271.8\" width=\"558\" x=\"53.328125\" y=\"22.318125\"/>\r\n  </clipPath>\r\n </defs>\r\n</svg>\r\n",
      "image/png": "[encoded data removed]"
     },
     "metadata": {
      "needs_background": "light"
     }
    }
   ],
   "source": [
    "plt.figure(figsize=(10, 5))\n",
    "sns.countplot(tweet_news['sentiment'])\n",
    "plt.title('Count Plot on Sentiment Variable')\n"
   ]
  },
  {
   "cell_type": "code",
   "execution_count": 206,
   "metadata": {},
   "outputs": [],
   "source": [
    "tweet_news = pd.read_csv(\"data/sentiments.csv\")\n",
    "tweet_news[['date','sentiment']].to_csv('data/EURUSD_Sentiments.csv', index=False)"
   ]
  },
  {
   "cell_type": "code",
   "execution_count": null,
   "metadata": {},
   "outputs": [],
   "source": []
  }
 ]
}