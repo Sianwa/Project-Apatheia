{
 "cells": [
  {
   "cell_type": "code",
   "execution_count": 1,
   "metadata": {},
   "outputs": [],
   "source": [
    "import fxcmpy\n",
    "import datetime as dt\n",
    "import yaml\n",
    "import socketio\n",
    "import keras\n",
    "from keras.models import Sequential\n",
    "from keras.models import load_model\n",
    "from keras.layers import Dense, LSTM, Dropout\n",
    "from keras.optimizers import Adam\n",
    "import math\n",
    "import json\n",
    "import matplotlib.pyplot as plt\n",
    "import numpy as np\n",
    "import random\n",
    "from collections import deque\n",
    "from keras.models import load_model\n",
    "from tqdm import tqdm\n",
    "import sys\n",
    "import time"
   ]
  },
  {
   "cell_type": "code",
   "execution_count": 2,
   "metadata": {},
   "outputs": [
    {
     "name": "stdout",
     "output_type": "stream",
     "text": [
      "ac71ac8450ddde85fe8b4a8149a03afb24137585\n"
     ]
    }
   ],
   "source": [
    "with open('config.yaml') as f:\n",
    "    data = yaml.load(f, Loader=yaml.FullLoader)\n",
    "    token = data.get(\"token\")\n",
    "print(token)"
   ]
  },
  {
   "cell_type": "code",
   "execution_count": 3,
   "metadata": {},
   "outputs": [
    {
     "name": "stdout",
     "output_type": "stream",
     "text": [
      "True\n"
     ]
    }
   ],
   "source": [
    "con = fxcmpy.fxcmpy(access_token=token, log_file='log.txt', server='demo')\n",
    "print(con.is_connected())"
   ]
  },
  {
   "cell_type": "code",
   "execution_count": 19,
   "metadata": {},
   "outputs": [],
   "source": [
    "class AI_Trader:\n",
    "    def __init__(self, state_size, is_eval=False, model_name=\"\"):\n",
    "        self.state_size = state_size  # normalized previous days\n",
    "        self.action_size = 3  # sit, buy, sell\n",
    "        self.memory = deque(maxlen=1000)\n",
    "        self.inventory = []\n",
    "        self.model_name = model_name\n",
    "        self.is_eval = is_eval\n",
    "\n",
    "        self.gamma = 0.95\n",
    "        self.epsilon = 1.0\n",
    "        self.epsilon_min = 0.01\n",
    "        self.epsilon_decay = 0.995\n",
    "\n",
    "        self.model = load_model(\n",
    "             \"models/\" + model_name) if is_eval else self._model()\n",
    "\n",
    "    def _model(self):\n",
    "        model = Sequential()\n",
    "        model.add(Dense(units=64, input_dim=self.state_size, activation=\"relu\"))\n",
    "        model.add(Dense(units=32, activation=\"relu\"))\n",
    "        model.add(Dense(units=8, activation=\"relu\"))\n",
    "        model.add(Dense(self.action_size, activation=\"softmax\"))\n",
    "        model.compile(loss=\"mse\", optimizer=Adam(lr=0.0001))\n",
    "\n",
    "        return model\n",
    "\n",
    "    def act(self, state):    \n",
    "        if not self.is_eval and np.random.rand() <= self.epsilon:\n",
    "            return random.randrange(self.action_size)\n",
    "\n",
    "        options = self.model.predict(state)\n",
    "        return np.argmax(options[0])\n",
    "\n",
    "    def expReplay(self, batch_size):\n",
    "        mini_batch = []\n",
    "        l = len(self.memory) \n",
    "        for i in range(l - batch_size + 1, l):\n",
    "            mini_batch.append(self.memory[i])\n",
    "         \n",
    "        for state, action, reward, next_state, done in mini_batch:\n",
    "            reward = reward\n",
    "            action = action\n",
    "            if not done:\n",
    "                #if agent is not in a terminal state we calculate the discounted total reward\n",
    "                reward = reward + self.gamma * np.amax(self.model.predict(next_state)[0])\n",
    "                \n",
    "            target = self.model.predict(state)\n",
    "            target[0][action] = reward\n",
    "        \n",
    "            history = self.model.fit(state, target_f, epochs=1, verbose=0)\n",
    "            #print(history.history)\n",
    "\n",
    "        if self.epsilon > self.epsilon_min:\n",
    "            self.epsilon *= self.epsilon_decay \n",
    "\n",
    "        return history.history"
   ]
  },
  {
   "cell_type": "code",
   "execution_count": 5,
   "metadata": {},
   "outputs": [],
   "source": [
    "#-------------------------------------------------------------stream data\n",
    "def on_tick():\n",
    "    df = con.get_candles(currency_pair, period='m1', columns = ['askclose'], number = window_size)\n",
    "    return df \n",
    "#--------------------------------------------------------------historical data\n",
    "def getData(currency_pair):\n",
    "    start = dt.datetime(2020, 7, 15)\n",
    "    stop = dt.datetime(2020, 8, 1)\n",
    "    con.get_candles(currency_pair, period = 'D1', start=start, stop=stop )\n",
    "    \n",
    "#------------------------------------------------------------create state    \n",
    "def CreateState(window_size):\n",
    "    data_stream = on_tick()\n",
    "    state = []\n",
    "    state.append(data_stream)\n",
    "    return np.array(state)  \n",
    "\n",
    "#---------------------------------------------------------------plot performance\n",
    "def plotData(dataSet):\n",
    "    title = \"Model's performance\"\n",
    "    plt.figure(figsize=(12.2,4.5))\n",
    "    plt.scatter(dataSet.index, dataSet['Buy'], color = 'green', label='Buy Signal', marker = '^', alpha = 1)\n",
    "    plt.scatter(dataSet.index, dataSet['Sell'], color = 'red', label='Sell Signal', marker = 'v', alpha = 1)\n",
    "    plt.plot( dataSet['Data'],  label='Tick Data',alpha = 0.35)\n",
    "       \n",
    "    plt.title(title)\n",
    "    plt.xlabel('Dates',fontsize=12)\n",
    "    plt.ylabel('Price Value',fontsize=12)\n",
    "    plt.legend(dataSet.columns.values, loc='upper left')\n",
    "\n",
    "    return plt.show()\n",
    "#-----------------------------------------------------------------place market order\n",
    "def placeMarketOrder(currency_pair, lotSize):\n",
    "    order = con.create_market_buy_order(currency_pair, lotSize)\n",
    "    \n",
    "    print(\"Market Order Placed\")\n",
    "    \n",
    "#-----------------------------------------------------------------get list of open trades\n",
    "def getOpenTrades():\n",
    "    trade_ids = con.get_open_positions()['tradeId']\n",
    "    \n",
    "    #returns a trade_id df\n",
    "    return trade_ids\n",
    "    \n",
    "#-----------------------------------------------------------------close specific position\n",
    "def closePosition(trade_id, lotSize):\n",
    "    con.close_trade(trade_id=trade_id, amount=lotSize)\n",
    "    \n",
    "    print(\"Position closed\")\n",
    "    \n",
    "#------------------------------------------------------------------close all open positions\n",
    "def killSwitch(currency_pair):\n",
    "    con.close_all_for_symbol(currency_pair)\n",
    "    \n",
    "    print(\"All positions closed\")\n"
   ]
  },
  {
   "cell_type": "code",
   "execution_count": 15,
   "metadata": {},
   "outputs": [],
   "source": [
    "#hyperparameters\n",
    "window_size = 7\n",
    "currency_pair = 'EUR/USD'\n",
    "lotSize = 1\n",
    "trained_model = load_model(\"models/ai_trader_50.h5\")\n",
    "trader = AI_Trader(window_size, False, \"ai_trader_50.h5\")"
   ]
  },
  {
   "cell_type": "code",
   "execution_count": 16,
   "metadata": {},
   "outputs": [
    {
     "name": "stdout",
     "output_type": "stream",
     "text": [
      "[[[1.20558]\n",
      "  [1.2057 ]\n",
      "  [1.20568]\n",
      "  [1.20594]\n",
      "  [1.206  ]\n",
      "  [1.20623]\n",
      "  [1.2063 ]]]\n"
     ]
    }
   ],
   "source": [
    "data_samples = 10     #run loop n times\n",
    "state = CreateState(window_size + 1)\n",
    "print(state)"
   ]
  },
  {
   "cell_type": "code",
   "execution_count": 17,
   "metadata": {},
   "outputs": [],
   "source": [
    "total_profit = 0"
   ]
  },
  {
   "cell_type": "code",
   "execution_count": null,
   "metadata": {},
   "outputs": [],
   "source": [
    "#run trading session \n",
    "for t in range(data_samples):\n",
    "        action = trader.act(state)\n",
    "        print(action)\n",
    "        next_state = CreateState(window_size + 1)\n",
    "        reward = 0\n",
    "        \n",
    "\n",
    "        if action == 1:\n",
    "            tradeOrder = placeMarketOrder(currency_pair, lotSize)\n",
    "            trade_ids = con.get_open_positions()['tradeId']\n",
    "            trade_ids.values.tolist()\n",
    "            print(trade_ids)\n",
    "                       \n",
    "\n",
    "        elif action == 2 and len(trade_ids) > 0:\n",
    "            position_id = trade_ids.pop(0)\n",
    "            position = int(position_id) #change dtype to int\n",
    "            closePosition(position, lotSize)\n",
    "            \n",
    "            #REWARD = GROSS P/L\n",
    "            reward = float(con.get_closed_positions()['grossPL'][-1:])\n",
    "            print(\"PROFIT\",reward)\n",
    "            total_profit += reward\n",
    "                        \n",
    "        \n",
    "        if t == data_samples - 1 :\n",
    "            #close all open positions\n",
    "            done = True\n",
    "\n",
    "        else:\n",
    "            done = False\n",
    "\n",
    "        trader.memory.append((state, action, reward, next_state, done))\n",
    "        state = next_state \n",
    "        time.sleep(300) #slows down model allowing it to view price changes before acting\n",
    "        \n",
    "        if done:\n",
    "            print(\"########################\")\n",
    "            print(\"TOTAL PROFIT: {}\".format(total_profit))\n",
    "            print(\"Final Inventory\", trade_ids)\n",
    "            print(\"########################\")"
   ]
  },
  {
   "cell_type": "code",
   "execution_count": null,
   "metadata": {},
   "outputs": [],
   "source": [
    "con.close_all_for_symbol(currency_pair)"
   ]
  },
  {
   "cell_type": "code",
   "execution_count": 7,
   "metadata": {},
   "outputs": [],
   "source": [
    "con.close_all()"
   ]
  },
  {
   "cell_type": "code",
   "execution_count": null,
   "metadata": {},
   "outputs": [],
   "source": [
    "con.close_trade(trade_id=69817218, amount=lotSize)\n",
    "con.close_trade(trade_id=69817246, amount=lotSize)\n"
   ]
  },
  {
   "cell_type": "code",
   "execution_count": 14,
   "metadata": {},
   "outputs": [
    {
     "ename": "AttributeError",
     "evalue": "'NoneType' object has no attribute 'connected'",
     "output_type": "error",
     "traceback": [
      "\u001b[1;31m---------------------------------------------------------------------------\u001b[0m",
      "\u001b[1;31mAttributeError\u001b[0m                            Traceback (most recent call last)",
      "\u001b[1;32m<ipython-input-14-355eb1ddb4ac>\u001b[0m in \u001b[0;36m<module>\u001b[1;34m\u001b[0m\n\u001b[1;32m----> 1\u001b[1;33m \u001b[0mcon\u001b[0m\u001b[1;33m.\u001b[0m\u001b[0mget_open_positions\u001b[0m\u001b[1;33m(\u001b[0m\u001b[1;33m)\u001b[0m\u001b[1;33m\u001b[0m\u001b[1;33m\u001b[0m\u001b[0m\n\u001b[0m",
      "\u001b[1;32mc:\\users\\kelsey\\fxcmapi\\fxcmvenv\\lib\\site-packages\\fxcmpy\\fxcmpy.py\u001b[0m in \u001b[0;36mget_open_positions\u001b[1;34m(self, kind)\u001b[0m\n\u001b[0;32m    370\u001b[0m \u001b[1;33m\u001b[0m\u001b[0m\n\u001b[0;32m    371\u001b[0m         \"\"\"\n\u001b[1;32m--> 372\u001b[1;33m         \u001b[0mdata\u001b[0m \u001b[1;33m=\u001b[0m \u001b[0mself\u001b[0m\u001b[1;33m.\u001b[0m\u001b[0mget_model\u001b[0m\u001b[1;33m(\u001b[0m\u001b[1;33m(\u001b[0m\u001b[1;34m'OpenPosition'\u001b[0m\u001b[1;33m,\u001b[0m\u001b[1;33m)\u001b[0m\u001b[1;33m)\u001b[0m\u001b[1;33m\u001b[0m\u001b[1;33m\u001b[0m\u001b[0m\n\u001b[0m\u001b[0;32m    373\u001b[0m         \u001b[0mopen_pos\u001b[0m \u001b[1;33m=\u001b[0m \u001b[0mdata\u001b[0m\u001b[1;33m[\u001b[0m\u001b[1;34m'open_positions'\u001b[0m\u001b[1;33m]\u001b[0m\u001b[1;33m\u001b[0m\u001b[1;33m\u001b[0m\u001b[0m\n\u001b[0;32m    374\u001b[0m         \u001b[1;32mif\u001b[0m \u001b[0mkind\u001b[0m \u001b[1;33m==\u001b[0m \u001b[1;34m'list'\u001b[0m\u001b[1;33m:\u001b[0m\u001b[1;33m\u001b[0m\u001b[1;33m\u001b[0m\u001b[0m\n",
      "\u001b[1;32mc:\\users\\kelsey\\fxcmapi\\fxcmvenv\\lib\\site-packages\\fxcmpy\\fxcmpy.py\u001b[0m in \u001b[0;36mget_model\u001b[1;34m(self, models, summary)\u001b[0m\n\u001b[0;32m    343\u001b[0m \u001b[1;33m\u001b[0m\u001b[0m\n\u001b[0;32m    344\u001b[0m         data = self.__handle_request__(method='trading/get_model',\n\u001b[1;32m--> 345\u001b[1;33m                                        params={'models': list(models)})\n\u001b[0m\u001b[0;32m    346\u001b[0m \u001b[1;33m\u001b[0m\u001b[0m\n\u001b[0;32m    347\u001b[0m         \u001b[0mtotal\u001b[0m \u001b[1;33m=\u001b[0m \u001b[0mdict\u001b[0m\u001b[1;33m(\u001b[0m\u001b[1;33m)\u001b[0m\u001b[1;33m\u001b[0m\u001b[1;33m\u001b[0m\u001b[0m\n",
      "\u001b[1;32mc:\\users\\kelsey\\fxcmapi\\fxcmvenv\\lib\\site-packages\\fxcmpy\\fxcmpy.py\u001b[0m in \u001b[0;36m__handle_request__\u001b[1;34m(self, method, params, protocol)\u001b[0m\n\u001b[0;32m   2424\u001b[0m         \u001b[0mself\u001b[0m\u001b[1;33m.\u001b[0m\u001b[0mlogger\u001b[0m\u001b[1;33m.\u001b[0m\u001b[0minfo\u001b[0m\u001b[1;33m(\u001b[0m\u001b[1;34m'Connection status: %s'\u001b[0m \u001b[1;33m%\u001b[0m \u001b[0mself\u001b[0m\u001b[1;33m.\u001b[0m\u001b[0mis_connected\u001b[0m\u001b[1;33m(\u001b[0m\u001b[1;33m)\u001b[0m\u001b[1;33m)\u001b[0m\u001b[1;33m\u001b[0m\u001b[1;33m\u001b[0m\u001b[0m\n\u001b[0;32m   2425\u001b[0m         \u001b[0mself\u001b[0m\u001b[1;33m.\u001b[0m\u001b[0mlogger\u001b[0m\u001b[1;33m.\u001b[0m\u001b[0minfo\u001b[0m\u001b[1;33m(\u001b[0m\u001b[1;34m'2. connection status: %s'\u001b[0m \u001b[1;33m%\u001b[0m \u001b[0mself\u001b[0m\u001b[1;33m.\u001b[0m\u001b[0mconnection_status\u001b[0m\u001b[1;33m)\u001b[0m\u001b[1;33m\u001b[0m\u001b[1;33m\u001b[0m\u001b[0m\n\u001b[1;32m-> 2426\u001b[1;33m         \u001b[0mself\u001b[0m\u001b[1;33m.\u001b[0m\u001b[0mlogger\u001b[0m\u001b[1;33m.\u001b[0m\u001b[0minfo\u001b[0m\u001b[1;33m(\u001b[0m\u001b[1;34m'Socket state: %s'\u001b[0m \u001b[1;33m%\u001b[0m \u001b[0mself\u001b[0m\u001b[1;33m.\u001b[0m\u001b[0msocket\u001b[0m\u001b[1;33m.\u001b[0m\u001b[0mconnected\u001b[0m\u001b[1;33m)\u001b[0m\u001b[1;33m\u001b[0m\u001b[1;33m\u001b[0m\u001b[0m\n\u001b[0m\u001b[0;32m   2427\u001b[0m         \u001b[0mself\u001b[0m\u001b[1;33m.\u001b[0m\u001b[0mlogger\u001b[0m\u001b[1;33m.\u001b[0m\u001b[0minfo\u001b[0m\u001b[1;33m(\u001b[0m\u001b[1;34m'Thread state: %s'\u001b[0m \u001b[1;33m%\u001b[0m \u001b[0mself\u001b[0m\u001b[1;33m.\u001b[0m\u001b[0msocket_thread\u001b[0m\u001b[1;33m.\u001b[0m\u001b[0mis_alive\u001b[0m\u001b[1;33m(\u001b[0m\u001b[1;33m)\u001b[0m\u001b[1;33m)\u001b[0m\u001b[1;33m\u001b[0m\u001b[1;33m\u001b[0m\u001b[0m\n\u001b[0;32m   2428\u001b[0m         \u001b[0mself\u001b[0m\u001b[1;33m.\u001b[0m\u001b[0mlogger\u001b[0m\u001b[1;33m.\u001b[0m\u001b[0minfo\u001b[0m\u001b[1;33m(\u001b[0m\u001b[1;34m'Thread name: %s'\u001b[0m \u001b[1;33m%\u001b[0m \u001b[0mself\u001b[0m\u001b[1;33m.\u001b[0m\u001b[0msocket_thread\u001b[0m\u001b[1;33m.\u001b[0m\u001b[0mname\u001b[0m\u001b[1;33m)\u001b[0m\u001b[1;33m\u001b[0m\u001b[1;33m\u001b[0m\u001b[0m\n",
      "\u001b[1;31mAttributeError\u001b[0m: 'NoneType' object has no attribute 'connected'"
     ]
    }
   ],
   "source": [
    "con.get_open_positions()\n"
   ]
  },
  {
   "cell_type": "code",
   "execution_count": 13,
   "metadata": {},
   "outputs": [
    {
     "name": "stdout",
     "output_type": "stream",
     "text": [
      "False\n"
     ]
    }
   ],
   "source": [
    "con.close()\n",
    "print(con.is_connected())"
   ]
  },
  {
   "cell_type": "code",
   "execution_count": 12,
   "metadata": {},
   "outputs": [
    {
     "ename": "NameError",
     "evalue": "name 'currency_pair' is not defined",
     "output_type": "error",
     "traceback": [
      "\u001b[1;31m---------------------------------------------------------------------------\u001b[0m",
      "\u001b[1;31mNameError\u001b[0m                                 Traceback (most recent call last)",
      "\u001b[1;32m<ipython-input-12-310b5780fca8>\u001b[0m in \u001b[0;36m<module>\u001b[1;34m\u001b[0m\n\u001b[1;32m----> 1\u001b[1;33m \u001b[0mcon\u001b[0m\u001b[1;33m.\u001b[0m\u001b[0mclose_all_for_symbol\u001b[0m\u001b[1;33m(\u001b[0m\u001b[0mcurrency_pair\u001b[0m\u001b[1;33m)\u001b[0m\u001b[1;33m\u001b[0m\u001b[1;33m\u001b[0m\u001b[0m\n\u001b[0m",
      "\u001b[1;31mNameError\u001b[0m: name 'currency_pair' is not defined"
     ]
    }
   ],
   "source": [
    "con.close_all_for_symbol(currency_pair)"
   ]
  },
  {
   "cell_type": "code",
   "execution_count": null,
   "metadata": {},
   "outputs": [],
   "source": [
    "con.get_open_positions()\n"
   ]
  },
  {
   "cell_type": "code",
   "execution_count": null,
   "metadata": {},
   "outputs": [],
   "source": [
    "reward = float(con.get_closed_positions()['grossPL'][-1:])\n",
    "print(reward)"
   ]
  },
  {
   "cell_type": "code",
   "execution_count": 11,
   "metadata": {},
   "outputs": [
    {
     "name": "stdout",
     "output_type": "stream",
     "text": [
      "['69824865', '69824835', '69824774']\n"
     ]
    }
   ],
   "source": [
    "trade_ids = []\n",
    "\n",
    "df = con.get_open_positions()['tradeId']\n",
    "trade_ids = df.tolist()\n",
    "print(trade_ids)\n"
   ]
  },
  {
   "cell_type": "code",
   "execution_count": 12,
   "metadata": {},
   "outputs": [],
   "source": [
    "con.close_all()"
   ]
  },
  {
   "cell_type": "code",
   "execution_count": 13,
   "metadata": {},
   "outputs": [
    {
     "data": {
      "text/html": [
       "<div>\n",
       "<style scoped>\n",
       "    .dataframe tbody tr th:only-of-type {\n",
       "        vertical-align: middle;\n",
       "    }\n",
       "\n",
       "    .dataframe tbody tr th {\n",
       "        vertical-align: top;\n",
       "    }\n",
       "\n",
       "    .dataframe thead th {\n",
       "        text-align: right;\n",
       "    }\n",
       "</style>\n",
       "<table border=\"1\" class=\"dataframe\">\n",
       "  <thead>\n",
       "    <tr style=\"text-align: right;\">\n",
       "      <th></th>\n",
       "    </tr>\n",
       "  </thead>\n",
       "  <tbody>\n",
       "  </tbody>\n",
       "</table>\n",
       "</div>"
      ],
      "text/plain": [
       "Empty DataFrame\n",
       "Columns: []\n",
       "Index: []"
      ]
     },
     "execution_count": 13,
     "metadata": {},
     "output_type": "execute_result"
    }
   ],
   "source": [
    "con.get_open_positions()"
   ]
  },
  {
   "cell_type": "code",
   "execution_count": 6,
   "metadata": {},
   "outputs": [
    {
     "data": {
      "text/plain": [
       "0    19823.79\n",
       "Name: balance, dtype: float64"
      ]
     },
     "execution_count": 6,
     "metadata": {},
     "output_type": "execute_result"
    }
   ],
   "source": [
    "con.get_accounts_summary()['balance']\n"
   ]
  },
  {
   "cell_type": "code",
   "execution_count": null,
   "metadata": {},
   "outputs": [],
   "source": []
  }
 ],
 "metadata": {
  "kernelspec": {
   "display_name": "Python 3",
   "language": "python",
   "name": "python3"
  },
  "language_info": {
   "codemirror_mode": {
    "name": "ipython",
    "version": 3
   },
   "file_extension": ".py",
   "mimetype": "text/x-python",
   "name": "python",
   "nbconvert_exporter": "python",
   "pygments_lexer": "ipython3",
   "version": "3.7.4"
  }
 },
 "nbformat": 4,
 "nbformat_minor": 4
}
